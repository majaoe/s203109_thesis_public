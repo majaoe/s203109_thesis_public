{
 "cells": [
  {
   "cell_type": "code",
   "execution_count": 2,
   "outputs": [],
   "source": [
    "import pandas as pd\n",
    "import numpy as np\n",
    "import pydot as pydot\n",
    "import seaborn as sns\n",
    "import matplotlib.pyplot as plt\n",
    "from matplotlib import rcParams\n",
    "import plotly.express as px\n",
    "plt.style.use(\"ggplot\")\n",
    "rcParams['figure.figsize'] = (12,6)\n",
    "from sklearn.model_selection import train_test_split"
   ],
   "metadata": {
    "collapsed": false
   }
  },
  {
   "cell_type": "code",
   "execution_count": 11,
   "outputs": [
    {
     "data": {
      "text/plain": "(164335, 34)"
     },
     "execution_count": 11,
     "metadata": {},
     "output_type": "execute_result"
    }
   ],
   "source": [
    "path = \"//geo-file/geomatic/Temp/mao/Thesis/Data/\"\n",
    "file = \"20231804_enriched_data_avg.csv\"\n",
    "df = pd.read_csv(path+file, sep=\";\")\n",
    "df = df.dropna().reset_index(drop=True)\n",
    "df.shape"
   ],
   "metadata": {
    "collapsed": false
   }
  },
  {
   "cell_type": "code",
   "execution_count": 5,
   "outputs": [
    {
     "data": {
      "text/plain": "   UNADR_KEY  HOU_HOLHOMOWNR  MUNICIPALITY CNZTYP CNZGRP   OWNSHIP      USAGE  \\\n0   20000021           False           101     E6      E  PUB_RENT  Apartment   \n1   20000034           False           101     E3      E  PUB_RENT  Apartment   \n2   20000035           False           101     E3      E  PUB_RENT  Apartment   \n3   20000041           False           101     E5      E  PUB_RENT  Apartment   \n4   20000048           False           101     F2      F  PUB_RENT  Apartment   \n\n   AREA  ROOMS  BUSINESS_ON_ADRESS  ...  HOU_INCO_AVG  MARSTA_COUPLE  \\\n0  59.0    2.0               False  ...      349153.0       0.000018   \n1  59.0    2.0               False  ...      291456.0       0.000018   \n2  68.0    3.0                True  ...      326973.0       0.166667   \n3  31.0    1.0                True  ...      200981.0       0.000018   \n4  79.0    4.0               False  ...     1038600.0       0.857143   \n\n   MARSTA_SINGLE  MARSTA_OTH  SOCGRP_AVG  WEALTH_AVG  PER_INCO_AVG  \\\n0       0.850385    0.149597    2.839109      -207.0      324791.0   \n1       0.850385    0.149597    3.844031   1209355.0      291709.0   \n2       0.699005    0.134328    2.947761    552221.0      290098.0   \n3       0.850385    0.149597    3.360696    277497.0      201369.0   \n4       0.061576    0.081281    1.881773   1158497.0      662774.0   \n\n   AGE_OLDST_AVG   CHL_AVG  Target  \n0          51.33  0.333333       1  \n1          65.31  0.000289       1  \n2          72.09  0.000289       1  \n3          49.11  0.000289       0  \n4          42.71  1.264339       1  \n\n[5 rows x 34 columns]",
      "text/html": "<div>\n<style scoped>\n    .dataframe tbody tr th:only-of-type {\n        vertical-align: middle;\n    }\n\n    .dataframe tbody tr th {\n        vertical-align: top;\n    }\n\n    .dataframe thead th {\n        text-align: right;\n    }\n</style>\n<table border=\"1\" class=\"dataframe\">\n  <thead>\n    <tr style=\"text-align: right;\">\n      <th></th>\n      <th>UNADR_KEY</th>\n      <th>HOU_HOLHOMOWNR</th>\n      <th>MUNICIPALITY</th>\n      <th>CNZTYP</th>\n      <th>CNZGRP</th>\n      <th>OWNSHIP</th>\n      <th>USAGE</th>\n      <th>AREA</th>\n      <th>ROOMS</th>\n      <th>BUSINESS_ON_ADRESS</th>\n      <th>...</th>\n      <th>HOU_INCO_AVG</th>\n      <th>MARSTA_COUPLE</th>\n      <th>MARSTA_SINGLE</th>\n      <th>MARSTA_OTH</th>\n      <th>SOCGRP_AVG</th>\n      <th>WEALTH_AVG</th>\n      <th>PER_INCO_AVG</th>\n      <th>AGE_OLDST_AVG</th>\n      <th>CHL_AVG</th>\n      <th>Target</th>\n    </tr>\n  </thead>\n  <tbody>\n    <tr>\n      <th>0</th>\n      <td>20000021</td>\n      <td>False</td>\n      <td>101</td>\n      <td>E6</td>\n      <td>E</td>\n      <td>PUB_RENT</td>\n      <td>Apartment</td>\n      <td>59.0</td>\n      <td>2.0</td>\n      <td>False</td>\n      <td>...</td>\n      <td>349153.0</td>\n      <td>0.000018</td>\n      <td>0.850385</td>\n      <td>0.149597</td>\n      <td>2.839109</td>\n      <td>-207.0</td>\n      <td>324791.0</td>\n      <td>51.33</td>\n      <td>0.333333</td>\n      <td>1</td>\n    </tr>\n    <tr>\n      <th>1</th>\n      <td>20000034</td>\n      <td>False</td>\n      <td>101</td>\n      <td>E3</td>\n      <td>E</td>\n      <td>PUB_RENT</td>\n      <td>Apartment</td>\n      <td>59.0</td>\n      <td>2.0</td>\n      <td>False</td>\n      <td>...</td>\n      <td>291456.0</td>\n      <td>0.000018</td>\n      <td>0.850385</td>\n      <td>0.149597</td>\n      <td>3.844031</td>\n      <td>1209355.0</td>\n      <td>291709.0</td>\n      <td>65.31</td>\n      <td>0.000289</td>\n      <td>1</td>\n    </tr>\n    <tr>\n      <th>2</th>\n      <td>20000035</td>\n      <td>False</td>\n      <td>101</td>\n      <td>E3</td>\n      <td>E</td>\n      <td>PUB_RENT</td>\n      <td>Apartment</td>\n      <td>68.0</td>\n      <td>3.0</td>\n      <td>True</td>\n      <td>...</td>\n      <td>326973.0</td>\n      <td>0.166667</td>\n      <td>0.699005</td>\n      <td>0.134328</td>\n      <td>2.947761</td>\n      <td>552221.0</td>\n      <td>290098.0</td>\n      <td>72.09</td>\n      <td>0.000289</td>\n      <td>1</td>\n    </tr>\n    <tr>\n      <th>3</th>\n      <td>20000041</td>\n      <td>False</td>\n      <td>101</td>\n      <td>E5</td>\n      <td>E</td>\n      <td>PUB_RENT</td>\n      <td>Apartment</td>\n      <td>31.0</td>\n      <td>1.0</td>\n      <td>True</td>\n      <td>...</td>\n      <td>200981.0</td>\n      <td>0.000018</td>\n      <td>0.850385</td>\n      <td>0.149597</td>\n      <td>3.360696</td>\n      <td>277497.0</td>\n      <td>201369.0</td>\n      <td>49.11</td>\n      <td>0.000289</td>\n      <td>0</td>\n    </tr>\n    <tr>\n      <th>4</th>\n      <td>20000048</td>\n      <td>False</td>\n      <td>101</td>\n      <td>F2</td>\n      <td>F</td>\n      <td>PUB_RENT</td>\n      <td>Apartment</td>\n      <td>79.0</td>\n      <td>4.0</td>\n      <td>False</td>\n      <td>...</td>\n      <td>1038600.0</td>\n      <td>0.857143</td>\n      <td>0.061576</td>\n      <td>0.081281</td>\n      <td>1.881773</td>\n      <td>1158497.0</td>\n      <td>662774.0</td>\n      <td>42.71</td>\n      <td>1.264339</td>\n      <td>1</td>\n    </tr>\n  </tbody>\n</table>\n<p>5 rows × 34 columns</p>\n</div>"
     },
     "execution_count": 5,
     "metadata": {},
     "output_type": "execute_result"
    }
   ],
   "source": [
    "df.head()"
   ],
   "metadata": {
    "collapsed": false
   }
  },
  {
   "cell_type": "code",
   "execution_count": 6,
   "outputs": [
    {
     "name": "stdout",
     "output_type": "stream",
     "text": [
      "<class 'pandas.core.frame.DataFrame'>\n",
      "RangeIndex: 164335 entries, 0 to 164334\n",
      "Data columns (total 34 columns):\n",
      " #   Column              Non-Null Count   Dtype  \n",
      "---  ------              --------------   -----  \n",
      " 0   UNADR_KEY           164335 non-null  int64  \n",
      " 1   HOU_HOLHOMOWNR      164335 non-null  bool   \n",
      " 2   MUNICIPALITY        164335 non-null  int64  \n",
      " 3   CNZTYP              164335 non-null  object \n",
      " 4   CNZGRP              164335 non-null  object \n",
      " 5   OWNSHIP             164335 non-null  object \n",
      " 6   USAGE               164335 non-null  object \n",
      " 7   AREA                164335 non-null  float64\n",
      " 8   ROOMS               164335 non-null  float64\n",
      " 9   BUSINESS_ON_ADRESS  164335 non-null  bool   \n",
      " 10  CAR_AVG             164335 non-null  float64\n",
      " 11  EDU_AVG             164335 non-null  float64\n",
      " 12  EMPL_SELF           164335 non-null  float64\n",
      " 13  EMPL_TOP            164335 non-null  float64\n",
      " 14  EMPL_HIGH           164335 non-null  float64\n",
      " 15  EMPL_MED            164335 non-null  float64\n",
      " 16  EMPL_BASE           164335 non-null  float64\n",
      " 17  EMPL_OTHER          164335 non-null  float64\n",
      " 18  EMPL_UNEMPL         164335 non-null  float64\n",
      " 19  EMPL_STUDENT        164335 non-null  float64\n",
      " 20  EMPL_RETRMT_EARLY   164335 non-null  float64\n",
      " 21  EMPL_PENSNR         164335 non-null  float64\n",
      " 22  EMPL_CHL            164335 non-null  float64\n",
      " 23  EMPL_OTH            164335 non-null  float64\n",
      " 24  HOU_INCO_AVG        164335 non-null  float64\n",
      " 25  MARSTA_COUPLE       164335 non-null  float64\n",
      " 26  MARSTA_SINGLE       164335 non-null  float64\n",
      " 27  MARSTA_OTH          164335 non-null  float64\n",
      " 28  SOCGRP_AVG          164335 non-null  float64\n",
      " 29  WEALTH_AVG          164335 non-null  float64\n",
      " 30  PER_INCO_AVG        164335 non-null  float64\n",
      " 31  AGE_OLDST_AVG       164335 non-null  float64\n",
      " 32  CHL_AVG             164335 non-null  float64\n",
      " 33  Target              164335 non-null  int64  \n",
      "dtypes: bool(2), float64(25), int64(3), object(4)\n",
      "memory usage: 40.4+ MB\n"
     ]
    }
   ],
   "source": [
    "df.info()"
   ],
   "metadata": {
    "collapsed": false
   }
  },
  {
   "cell_type": "code",
   "execution_count": 7,
   "outputs": [],
   "source": [
    "df['HOU_HOLHOMOWNR'] = (df['HOU_HOLHOMOWNR']==True).astype(int)\n",
    "df['BUSINESS_ON_ADRESS'] = (df['BUSINESS_ON_ADRESS']==True).astype(int)\n",
    "df['Target'] = df.Target.astype(int)\n",
    "df= df.drop(['CNZGRP', 'UNADR_KEY', 'PER_INCO_AVG'], axis=1)"
   ],
   "metadata": {
    "collapsed": false
   }
  },
  {
   "cell_type": "markdown",
   "source": [
    "# Functions for regrouping variables"
   ],
   "metadata": {
    "collapsed": false
   }
  },
  {
   "cell_type": "markdown",
   "source": [
    "**Employment**\n",
    "1 is employed, 0 is unemployed"
   ],
   "metadata": {
    "collapsed": false
   }
  },
  {
   "cell_type": "code",
   "execution_count": 14,
   "outputs": [],
   "source": [
    "def employment(df):\n",
    "    employed = df['EMPL_SELF']+df['EMPL_TOP']+df['EMPL_HIGH']+df['EMPL_MED']+df['EMPL_BASE']+df['EMPL_OTHER']\n",
    "    unemployed = df['EMPL_UNEMPL']+df['EMPL_STUDENT']+df['EMPL_RETRMT_EARLY']+df['EMPL_PENSNR']+df['EMPL_CHL']+df['EMPL_OTH']\n",
    "    df.loc[employed>unemployed, 'EMPL_STATUS']=1\n",
    "    df.loc[employed<=unemployed, 'EMPL_STATUS']=0\n",
    "    df = df.drop(columns=['EMPL_SELF', 'EMPL_TOP', 'EMPL_HIGH', 'EMPL_MED', 'EMPL_BASE', 'EMPL_OTHER', 'EMPL_UNEMPL', 'EMPL_STUDENT', 'EMPL_RETRMT_EARLY', 'EMPL_PENSNR', 'EMPL_CHL', 'EMPL_OTH'])\n",
    "    df['EMPL_STATUS'] = df.EMPL_STATUS.astype('category')\n",
    "    return df"
   ],
   "metadata": {
    "collapsed": false
   }
  },
  {
   "cell_type": "markdown",
   "source": [
    "**Child and car**\n",
    "rounded to 2 decimals because RF seems to have trouble distinguinshing the decimals"
   ],
   "metadata": {
    "collapsed": false
   }
  },
  {
   "cell_type": "code",
   "execution_count": 15,
   "outputs": [],
   "source": [
    "def child_car(df):\n",
    "    df['CHL_AVG'] = round(df['CHL_AVG'],2)\n",
    "    df['CAR_AVG'] = round(df['CAR_AVG'],2)\n",
    "    return df"
   ],
   "metadata": {
    "collapsed": false
   }
  },
  {
   "cell_type": "markdown",
   "source": [
    "**Marital status**\n",
    "1 is married, 0 is not married"
   ],
   "metadata": {
    "collapsed": false
   }
  },
  {
   "cell_type": "code",
   "execution_count": 16,
   "outputs": [],
   "source": [
    "def mari_status(df):\n",
    "    df.loc[df['MARSTA_COUPLE']>(df['MARSTA_SINGLE']+df['MARSTA_OTH']), 'MARI_STATUS']=1\n",
    "    df.loc[df['MARSTA_COUPLE']<=(df['MARSTA_SINGLE']+df['MARSTA_OTH']), 'MARI_STATUS']=0\n",
    "    df = df.drop(columns=['MARSTA_COUPLE', 'MARSTA_SINGLE', 'MARSTA_OTH'])\n",
    "    df['MARI_STATUS'] = df.MARI_STATUS.astype('category')\n",
    "    return df"
   ],
   "metadata": {
    "collapsed": false
   }
  },
  {
   "cell_type": "markdown",
   "source": [
    "**Ownship**\n",
    "1 = owned, 0 = not owned"
   ],
   "metadata": {
    "collapsed": false
   }
  },
  {
   "cell_type": "code",
   "execution_count": 17,
   "outputs": [],
   "source": [
    "def ownship(df):\n",
    "    df['OWNSHIP'] = df.OWNSHIP.astype(str)\n",
    "    df.loc[(df['OWNSHIP']==\"PART\") | (df['OWNSHIP'] == \"OWN\"), 'OWNSHIP']=1\n",
    "    df.loc[(df['OWNSHIP']==\"PRI_RENT\") | (df['OWNSHIP'] == \"PUB_RENT\") | (df['OWNSHIP'] == \"UNK\"), 'OWNSHIP'] = 0\n",
    "    df['OWNSHIP'] = df.OWNSHIP.astype('category')\n",
    "    return df"
   ],
   "metadata": {
    "collapsed": false
   }
  },
  {
   "cell_type": "markdown",
   "source": [
    "**Rooms**\n",
    "Remove observations with rooms over 9 that are not a farmhouse nor an institution. Consider feature engineering institutions."
   ],
   "metadata": {
    "collapsed": false
   }
  },
  {
   "cell_type": "code",
   "execution_count": 29,
   "outputs": [],
   "source": [
    "def rooms(df):\n",
    " df = df.loc[~((df['ROOMS']>9) & (df['USAGE']!='Farmhouse') & (df['USAGE']!='Institution') & (df['BUSINESS_ON_ADRESS']==False))]\n",
    " return df"
   ],
   "metadata": {
    "collapsed": false
   }
  },
  {
   "cell_type": "markdown",
   "source": [
    "**Municipality**"
   ],
   "metadata": {
    "collapsed": false
   }
  },
  {
   "cell_type": "code",
   "execution_count": 19,
   "outputs": [],
   "source": [
    "def muni(df):\n",
    "    good = df.loc[df['Target']==1].groupby(['MUNICIPALITY'])['MUNICIPALITY'].count()/df.loc[df['Target']==1].count()[0]\n",
    "    bad = df.loc[df['Target']==0].groupby(['MUNICIPALITY'])['MUNICIPALITY'].count()/df.loc[df['Target']==0].count()[0]\n",
    "    index = (bad/good)*100\n",
    "    index = index.to_numpy()\n",
    "    index[92] = 100 #0 bad customers in this municipality and only 11 observations in total so we set it to 1. It is on Læsø\n",
    "\n",
    "    for i in np.arange(index.size):\n",
    "        if index[i]>150:\n",
    "            index[i] = 5\n",
    "        elif (index[i]<150 and index[i]>=120):\n",
    "            index[i] = 4\n",
    "        elif (index[i]<120 and index[i]>=100):\n",
    "            index[i] = 3\n",
    "        elif (index[i]<100 and index[i]>=80):\n",
    "            index[i] = 2\n",
    "        elif (index[i]<80 and index[i]>=50):\n",
    "            index[i] = 1\n",
    "        elif index[i] < 50:\n",
    "            index[i] = 0\n",
    "    print(index)\n",
    "\n",
    "    index_df = pd.DataFrame({'Index':index, 'MUNICIPALITY':list(good.index.values)})\n",
    "\n",
    "    df['MUNICIPALITY'] = df.MUNICIPALITY.astype('int32')\n",
    "\n",
    "    for i in np.arange(index_df.shape[0]):\n",
    "        df.loc[(df['MUNICIPALITY']==index_df['MUNICIPALITY'][i]), 'MUNICIPALITY'] = index_df['Index'][i]\n",
    "\n",
    "    df['MUNICIPALITY'] = df.MUNICIPALITY.astype('category')\n",
    "    return df"
   ],
   "metadata": {
    "collapsed": false
   }
  },
  {
   "cell_type": "markdown",
   "source": [
    "# Create different versions of training data\n",
    "We will test different levels of feature engineering from baseline/none to more engineered\n",
    "These dataframes will be saved as csv files for easier future use.\n",
    "The data will be shuffled and split into train and test before being saved\n",
    "Pre-processing is still included as it is a requirement for model to work (i.e. model cannot take \"Etagebolig\", it needs to be encoded)\n",
    "The lowest data complexity level will only yield the absolute necessary steps for inputting to models"
   ],
   "metadata": {
    "collapsed": false
   }
  },
  {
   "cell_type": "markdown",
   "source": [
    "*Level 0*"
   ],
   "metadata": {
    "collapsed": false
   }
  },
  {
   "cell_type": "code",
   "execution_count": 9,
   "outputs": [],
   "source": [
    "df_0 = pd.get_dummies(df, columns=['USAGE','CNZGRP','MUNICIPALITY', 'OWNSHIP'])"
   ],
   "metadata": {
    "collapsed": false
   }
  },
  {
   "cell_type": "code",
   "execution_count": 10,
   "outputs": [
    {
     "name": "stdout",
     "output_type": "stream",
     "text": [
      "(131468, 148) (32867, 148) (131468, 1) (32867, 1)\n"
     ]
    }
   ],
   "source": [
    "X_train, X_test, y_train, y_test = train_test_split(df_0.loc[:, ~df_0.columns.isin(['Target'])], df_0.loc[:,df_0.columns=='Target'], shuffle=True, test_size=0.25,\n",
    "                                                 random_state=1, stratify=df_0.loc[:,df_0.columns=='Target'])\n",
    "print(X_train.shape, X_test.shape, y_train.shape, y_test.shape)"
   ],
   "metadata": {
    "collapsed": false
   }
  },
  {
   "cell_type": "code",
   "execution_count": 14,
   "outputs": [
    {
     "data": {
      "text/plain": "        HOU_HOLHOMOWNR   AREA  ROOMS  BUSINESS_ON_ADRESS   CAR_AVG  EDU_AVG  \\\n144495               0   42.0    2.0                   0  0.636139    13.19   \n78178                0   95.0    4.0                   0  1.661391    12.33   \n5953                 0   61.0    2.0                   0  0.362963    12.33   \n53813                0  157.0    5.0                   0  1.551663    16.92   \n145824               0  106.0    4.0                   0  0.745679    15.67   \n\n        EMPL_SELF  EMPL_TOP  EMPL_HIGH  EMPL_MED  ...  MUNICIPALITY_840  \\\n144495   0.027160  0.024691   0.246914  0.079012  ...                 0   \n78178    0.115000  0.037500   0.175000  0.095000  ...                 0   \n5953     0.042079  0.004950   0.126238  0.049505  ...                 0   \n53813    0.093826  0.140741   0.432099  0.118519  ...                 0   \n145824   0.062189  0.027363   0.462687  0.087065  ...                 0   \n\n        MUNICIPALITY_846  MUNICIPALITY_849  MUNICIPALITY_851  \\\n144495                 0                 0                 0   \n78178                  0                 0                 0   \n5953                   0                 0                 0   \n53813                  0                 0                 0   \n145824                 0                 0                 0   \n\n        MUNICIPALITY_860  OWNSHIP_OWN  OWNSHIP_PART  OWNSHIP_PRI_RENT  \\\n144495                 0            1             0                 0   \n78178                  0            1             0                 0   \n5953                   0            0             0                 0   \n53813                  0            1             0                 0   \n145824                 0            0             0                 0   \n\n        OWNSHIP_PUB_RENT  OWNSHIP_UNK  \n144495                 0            0  \n78178                  0            0  \n5953                   1            0  \n53813                  0            0  \n145824                 1            0  \n\n[5 rows x 147 columns]",
      "text/html": "<div>\n<style scoped>\n    .dataframe tbody tr th:only-of-type {\n        vertical-align: middle;\n    }\n\n    .dataframe tbody tr th {\n        vertical-align: top;\n    }\n\n    .dataframe thead th {\n        text-align: right;\n    }\n</style>\n<table border=\"1\" class=\"dataframe\">\n  <thead>\n    <tr style=\"text-align: right;\">\n      <th></th>\n      <th>HOU_HOLHOMOWNR</th>\n      <th>AREA</th>\n      <th>ROOMS</th>\n      <th>BUSINESS_ON_ADRESS</th>\n      <th>CAR_AVG</th>\n      <th>EDU_AVG</th>\n      <th>EMPL_SELF</th>\n      <th>EMPL_TOP</th>\n      <th>EMPL_HIGH</th>\n      <th>EMPL_MED</th>\n      <th>...</th>\n      <th>MUNICIPALITY_840</th>\n      <th>MUNICIPALITY_846</th>\n      <th>MUNICIPALITY_849</th>\n      <th>MUNICIPALITY_851</th>\n      <th>MUNICIPALITY_860</th>\n      <th>OWNSHIP_OWN</th>\n      <th>OWNSHIP_PART</th>\n      <th>OWNSHIP_PRI_RENT</th>\n      <th>OWNSHIP_PUB_RENT</th>\n      <th>OWNSHIP_UNK</th>\n    </tr>\n  </thead>\n  <tbody>\n    <tr>\n      <th>144495</th>\n      <td>0</td>\n      <td>42.0</td>\n      <td>2.0</td>\n      <td>0</td>\n      <td>0.636139</td>\n      <td>13.19</td>\n      <td>0.027160</td>\n      <td>0.024691</td>\n      <td>0.246914</td>\n      <td>0.079012</td>\n      <td>...</td>\n      <td>0</td>\n      <td>0</td>\n      <td>0</td>\n      <td>0</td>\n      <td>0</td>\n      <td>1</td>\n      <td>0</td>\n      <td>0</td>\n      <td>0</td>\n      <td>0</td>\n    </tr>\n    <tr>\n      <th>78178</th>\n      <td>0</td>\n      <td>95.0</td>\n      <td>4.0</td>\n      <td>0</td>\n      <td>1.661391</td>\n      <td>12.33</td>\n      <td>0.115000</td>\n      <td>0.037500</td>\n      <td>0.175000</td>\n      <td>0.095000</td>\n      <td>...</td>\n      <td>0</td>\n      <td>0</td>\n      <td>0</td>\n      <td>0</td>\n      <td>0</td>\n      <td>1</td>\n      <td>0</td>\n      <td>0</td>\n      <td>0</td>\n      <td>0</td>\n    </tr>\n    <tr>\n      <th>5953</th>\n      <td>0</td>\n      <td>61.0</td>\n      <td>2.0</td>\n      <td>0</td>\n      <td>0.362963</td>\n      <td>12.33</td>\n      <td>0.042079</td>\n      <td>0.004950</td>\n      <td>0.126238</td>\n      <td>0.049505</td>\n      <td>...</td>\n      <td>0</td>\n      <td>0</td>\n      <td>0</td>\n      <td>0</td>\n      <td>0</td>\n      <td>0</td>\n      <td>0</td>\n      <td>0</td>\n      <td>1</td>\n      <td>0</td>\n    </tr>\n    <tr>\n      <th>53813</th>\n      <td>0</td>\n      <td>157.0</td>\n      <td>5.0</td>\n      <td>0</td>\n      <td>1.551663</td>\n      <td>16.92</td>\n      <td>0.093826</td>\n      <td>0.140741</td>\n      <td>0.432099</td>\n      <td>0.118519</td>\n      <td>...</td>\n      <td>0</td>\n      <td>0</td>\n      <td>0</td>\n      <td>0</td>\n      <td>0</td>\n      <td>1</td>\n      <td>0</td>\n      <td>0</td>\n      <td>0</td>\n      <td>0</td>\n    </tr>\n    <tr>\n      <th>145824</th>\n      <td>0</td>\n      <td>106.0</td>\n      <td>4.0</td>\n      <td>0</td>\n      <td>0.745679</td>\n      <td>15.67</td>\n      <td>0.062189</td>\n      <td>0.027363</td>\n      <td>0.462687</td>\n      <td>0.087065</td>\n      <td>...</td>\n      <td>0</td>\n      <td>0</td>\n      <td>0</td>\n      <td>0</td>\n      <td>0</td>\n      <td>0</td>\n      <td>0</td>\n      <td>0</td>\n      <td>1</td>\n      <td>0</td>\n    </tr>\n  </tbody>\n</table>\n<p>5 rows × 147 columns</p>\n</div>"
     },
     "execution_count": 14,
     "metadata": {},
     "output_type": "execute_result"
    }
   ],
   "source": [
    "X_train.head()"
   ],
   "metadata": {
    "collapsed": false
   }
  },
  {
   "cell_type": "code",
   "execution_count": 20,
   "outputs": [],
   "source": [
    "X_train.to_pickle('x_train_lvl0.pkl')\n",
    "X_test.to_pickle('x_test_lvl0.pkl')\n",
    "y_train.to_pickle('y_train_lvl0.pkl')\n",
    "y_test.to_pickle('y_test_lvl0.pkl')"
   ],
   "metadata": {
    "collapsed": false
   }
  },
  {
   "cell_type": "markdown",
   "source": [
    "# Level 1\n",
    "Categorical data is feature engineered and most dominant outliers are removed\n",
    "Reduces to 64 variables"
   ],
   "metadata": {
    "collapsed": false
   }
  },
  {
   "cell_type": "markdown",
   "source": [
    "**Fixing data types**"
   ],
   "metadata": {
    "collapsed": false
   }
  },
  {
   "cell_type": "code",
   "execution_count": 30,
   "outputs": [],
   "source": [
    "df_3 = df"
   ],
   "metadata": {
    "collapsed": false
   }
  },
  {
   "cell_type": "code",
   "execution_count": 31,
   "outputs": [],
   "source": [
    "df_3['HOU_HOLHOMOWNR'] = (df_3['HOU_HOLHOMOWNR']==True).astype(int)\n",
    "df_3['BUSINESS_ON_ADRESS'] = (df_3['BUSINESS_ON_ADRESS']==True).astype(int)\n",
    "df_3['Target'] = df.Target.astype(int)\n",
    "df_3= df_3.drop(['CNZGRP', 'UNADR_KEY', 'PER_INCO_AVG'], axis=1)"
   ],
   "metadata": {
    "collapsed": false
   }
  },
  {
   "cell_type": "code",
   "execution_count": 32,
   "outputs": [],
   "source": [
    "df_3 = employment(df_3)\n",
    "df_3 = child_car(df_3)\n",
    "df_3 = mari_status(df_3)\n",
    "df_3 = ownship(df_3)\n",
    "df_3 = rooms(df_3)\n",
    "#df_3 = muni(df_3)"
   ],
   "metadata": {
    "collapsed": false
   }
  },
  {
   "cell_type": "markdown",
   "source": [],
   "metadata": {
    "collapsed": false
   }
  },
  {
   "cell_type": "code",
   "execution_count": 124,
   "outputs": [],
   "source": [
    "df_3 = pd.get_dummies(df_3, columns=['USAGE','CNZTYP','MUNICIPALITY'])"
   ],
   "metadata": {
    "collapsed": false
   }
  },
  {
   "cell_type": "code",
   "execution_count": 128,
   "outputs": [
    {
     "data": {
      "text/plain": "   HOU_HOLHOMOWNR  OWNSHIP  AREA  ROOMS  BUSINESS_ON_ADRESS  PER_COU_UNADR  \\\n0               0        0    59      2                   0         1.4583   \n1               0        0    59      2                   0         2.2157   \n2               0        0    68      3                   1         2.2157   \n3               0        0    31      1                   1         2.2157   \n4               0        0    79      4                   0         2.2157   \n\n   CAR_AVG  EDU_AVG  HOU_INCO_AVG  SOCGRP_AVG  ...  CNZTYP_H1  CNZTYP_H2  \\\n0     0.00    12.67        251903    3.281095  ...          0          0   \n1     0.18    13.67        277590    3.169154  ...          0          0   \n2     0.32    14.29        296572    3.002463  ...          0          0   \n3     0.00    11.67        221745    3.845905  ...          0          0   \n4     0.48    13.46        564137    3.002463  ...          0          0   \n\n   CNZTYP_I1  CNZTYP_I2  CNZTYP_I3  CNZTYP_I4  MUNICIPALITY_1  MUNICIPALITY_2  \\\n0          0          0          0          0               0               0   \n1          0          0          0          0               0               0   \n2          0          0          0          0               0               0   \n3          0          0          0          0               0               0   \n4          0          0          0          0               0               0   \n\n   MUNICIPALITY_3  MUNICIPALITY_4  \n0               1               0  \n1               1               0  \n2               1               0  \n3               1               0  \n4               1               0  \n\n[5 rows x 66 columns]",
      "text/html": "<div>\n<style scoped>\n    .dataframe tbody tr th:only-of-type {\n        vertical-align: middle;\n    }\n\n    .dataframe tbody tr th {\n        vertical-align: top;\n    }\n\n    .dataframe thead th {\n        text-align: right;\n    }\n</style>\n<table border=\"1\" class=\"dataframe\">\n  <thead>\n    <tr style=\"text-align: right;\">\n      <th></th>\n      <th>HOU_HOLHOMOWNR</th>\n      <th>OWNSHIP</th>\n      <th>AREA</th>\n      <th>ROOMS</th>\n      <th>BUSINESS_ON_ADRESS</th>\n      <th>PER_COU_UNADR</th>\n      <th>CAR_AVG</th>\n      <th>EDU_AVG</th>\n      <th>HOU_INCO_AVG</th>\n      <th>SOCGRP_AVG</th>\n      <th>...</th>\n      <th>CNZTYP_H1</th>\n      <th>CNZTYP_H2</th>\n      <th>CNZTYP_I1</th>\n      <th>CNZTYP_I2</th>\n      <th>CNZTYP_I3</th>\n      <th>CNZTYP_I4</th>\n      <th>MUNICIPALITY_1</th>\n      <th>MUNICIPALITY_2</th>\n      <th>MUNICIPALITY_3</th>\n      <th>MUNICIPALITY_4</th>\n    </tr>\n  </thead>\n  <tbody>\n    <tr>\n      <th>0</th>\n      <td>0</td>\n      <td>0</td>\n      <td>59</td>\n      <td>2</td>\n      <td>0</td>\n      <td>1.4583</td>\n      <td>0.00</td>\n      <td>12.67</td>\n      <td>251903</td>\n      <td>3.281095</td>\n      <td>...</td>\n      <td>0</td>\n      <td>0</td>\n      <td>0</td>\n      <td>0</td>\n      <td>0</td>\n      <td>0</td>\n      <td>0</td>\n      <td>0</td>\n      <td>1</td>\n      <td>0</td>\n    </tr>\n    <tr>\n      <th>1</th>\n      <td>0</td>\n      <td>0</td>\n      <td>59</td>\n      <td>2</td>\n      <td>0</td>\n      <td>2.2157</td>\n      <td>0.18</td>\n      <td>13.67</td>\n      <td>277590</td>\n      <td>3.169154</td>\n      <td>...</td>\n      <td>0</td>\n      <td>0</td>\n      <td>0</td>\n      <td>0</td>\n      <td>0</td>\n      <td>0</td>\n      <td>0</td>\n      <td>0</td>\n      <td>1</td>\n      <td>0</td>\n    </tr>\n    <tr>\n      <th>2</th>\n      <td>0</td>\n      <td>0</td>\n      <td>68</td>\n      <td>3</td>\n      <td>1</td>\n      <td>2.2157</td>\n      <td>0.32</td>\n      <td>14.29</td>\n      <td>296572</td>\n      <td>3.002463</td>\n      <td>...</td>\n      <td>0</td>\n      <td>0</td>\n      <td>0</td>\n      <td>0</td>\n      <td>0</td>\n      <td>0</td>\n      <td>0</td>\n      <td>0</td>\n      <td>1</td>\n      <td>0</td>\n    </tr>\n    <tr>\n      <th>3</th>\n      <td>0</td>\n      <td>0</td>\n      <td>31</td>\n      <td>1</td>\n      <td>1</td>\n      <td>2.2157</td>\n      <td>0.00</td>\n      <td>11.67</td>\n      <td>221745</td>\n      <td>3.845905</td>\n      <td>...</td>\n      <td>0</td>\n      <td>0</td>\n      <td>0</td>\n      <td>0</td>\n      <td>0</td>\n      <td>0</td>\n      <td>0</td>\n      <td>0</td>\n      <td>1</td>\n      <td>0</td>\n    </tr>\n    <tr>\n      <th>4</th>\n      <td>0</td>\n      <td>0</td>\n      <td>79</td>\n      <td>4</td>\n      <td>0</td>\n      <td>2.2157</td>\n      <td>0.48</td>\n      <td>13.46</td>\n      <td>564137</td>\n      <td>3.002463</td>\n      <td>...</td>\n      <td>0</td>\n      <td>0</td>\n      <td>0</td>\n      <td>0</td>\n      <td>0</td>\n      <td>0</td>\n      <td>0</td>\n      <td>0</td>\n      <td>1</td>\n      <td>0</td>\n    </tr>\n  </tbody>\n</table>\n<p>5 rows × 66 columns</p>\n</div>"
     },
     "execution_count": 128,
     "metadata": {},
     "output_type": "execute_result"
    }
   ],
   "source": [
    "df_3['AREA'] = df_3.AREA.astype(int)\n",
    "df_3['ROOMS'] = df_3.ROOMS.astype(int)\n",
    "df_3['HOU_INCO_AVG'] = df_3.HOU_INCO_AVG.astype(int)\n",
    "df_3['WEALTH_AVG'] = df_3.WEALTH_AVG.astype(int)\n",
    "df_3['EMPL_STATUS'] = df_3.EMPL_STATUS.astype(int)\n",
    "df_3['MARI_STATUS'] = df_3.MARI_STATUS.astype(int)\n",
    "df_3['OWNSHIP'] = df_3.OWNSHIP.astype(int)\n",
    "df_3['HOU_HOLHOMOWNR'] = (df_3['HOU_HOLHOMOWNR'] == True).astype(int)\n",
    "df_3['BUSINESS_ON_ADRESS'] = (df_3['BUSINESS_ON_ADRESS'] == True).astype(int)\n",
    "df_3['Target'] = df_3.Target.astype(int)\n",
    "df_3.head()"
   ],
   "metadata": {
    "collapsed": false
   }
  },
  {
   "cell_type": "code",
   "execution_count": 130,
   "outputs": [
    {
     "name": "stdout",
     "output_type": "stream",
     "text": [
      "(130205, 65) (32552, 65) (130205, 1) (32552, 1)\n"
     ]
    }
   ],
   "source": [
    "X_train, X_test, y_train, y_test = train_test_split(df.loc[:, ~df.columns.isin(['Target'])],\n",
    "                                                    df.loc[:, df.columns == 'Target'], shuffle=True, test_size=0.25,\n",
    "                                                    random_state=1, stratify=df.loc[:, df.columns == 'Target'])\n",
    "print(X_train.shape, X_test.shape, y_train.shape, y_test.shape)\n",
    "X_train.to_pickle('x_train_lvl2.pkl')\n",
    "X_test.to_pickle('x_test_lvl2.pkl')\n",
    "y_train.to_pickle('y_train_lvl2.pkl')\n",
    "y_test.to_pickle('y_test_lvl2.pkl')"
   ],
   "metadata": {
    "collapsed": false
   }
  },
  {
   "cell_type": "code",
   "execution_count": 35,
   "outputs": [
    {
     "name": "stdout",
     "output_type": "stream",
     "text": [
      "(131144, 33) (32787, 33) (131144, 1) (32787, 1)\n"
     ]
    }
   ],
   "source": [
    "X_train, X_test, y_train, y_test = train_test_split(df.loc[:, ~df.columns.isin(['Target'])],\n",
    "                                                    df.loc[:, df.columns == 'Target'], shuffle=True, test_size=0.25,\n",
    "                                                    random_state=1, stratify=df.loc[:, df.columns == 'Target'])\n",
    "print(X_train.shape, X_test.shape, y_train.shape, y_test.shape)"
   ],
   "metadata": {
    "collapsed": false
   }
  },
  {
   "cell_type": "code",
   "execution_count": 36,
   "outputs": [
    {
     "ename": "KeyError",
     "evalue": "'Target'",
     "output_type": "error",
     "traceback": [
      "\u001B[1;31m---------------------------------------------------------------------------\u001B[0m",
      "\u001B[1;31mKeyError\u001B[0m                                  Traceback (most recent call last)",
      "File \u001B[1;32m~\\AppData\\Local\\Programs\\Python\\Python311\\Lib\\site-packages\\pandas\\core\\indexes\\base.py:3802\u001B[0m, in \u001B[0;36mIndex.get_loc\u001B[1;34m(self, key, method, tolerance)\u001B[0m\n\u001B[0;32m   3801\u001B[0m \u001B[38;5;28;01mtry\u001B[39;00m:\n\u001B[1;32m-> 3802\u001B[0m     \u001B[38;5;28;01mreturn\u001B[39;00m \u001B[38;5;28;43mself\u001B[39;49m\u001B[38;5;241;43m.\u001B[39;49m\u001B[43m_engine\u001B[49m\u001B[38;5;241;43m.\u001B[39;49m\u001B[43mget_loc\u001B[49m\u001B[43m(\u001B[49m\u001B[43mcasted_key\u001B[49m\u001B[43m)\u001B[49m\n\u001B[0;32m   3803\u001B[0m \u001B[38;5;28;01mexcept\u001B[39;00m \u001B[38;5;167;01mKeyError\u001B[39;00m \u001B[38;5;28;01mas\u001B[39;00m err:\n",
      "File \u001B[1;32m~\\AppData\\Local\\Programs\\Python\\Python311\\Lib\\site-packages\\pandas\\_libs\\index.pyx:138\u001B[0m, in \u001B[0;36mpandas._libs.index.IndexEngine.get_loc\u001B[1;34m()\u001B[0m\n",
      "File \u001B[1;32m~\\AppData\\Local\\Programs\\Python\\Python311\\Lib\\site-packages\\pandas\\_libs\\index.pyx:165\u001B[0m, in \u001B[0;36mpandas._libs.index.IndexEngine.get_loc\u001B[1;34m()\u001B[0m\n",
      "File \u001B[1;32mpandas\\_libs\\hashtable_class_helper.pxi:5745\u001B[0m, in \u001B[0;36mpandas._libs.hashtable.PyObjectHashTable.get_item\u001B[1;34m()\u001B[0m\n",
      "File \u001B[1;32mpandas\\_libs\\hashtable_class_helper.pxi:5753\u001B[0m, in \u001B[0;36mpandas._libs.hashtable.PyObjectHashTable.get_item\u001B[1;34m()\u001B[0m\n",
      "\u001B[1;31mKeyError\u001B[0m: 'Target'",
      "\nThe above exception was the direct cause of the following exception:\n",
      "\u001B[1;31mKeyError\u001B[0m                                  Traceback (most recent call last)",
      "Cell \u001B[1;32mIn[36], line 1\u001B[0m\n\u001B[1;32m----> 1\u001B[0m X_train \u001B[38;5;241m=\u001B[39m \u001B[43mmuni\u001B[49m\u001B[43m(\u001B[49m\u001B[43mX_train\u001B[49m\u001B[43m)\u001B[49m\n\u001B[0;32m      2\u001B[0m X_train\n",
      "Cell \u001B[1;32mIn[19], line 2\u001B[0m, in \u001B[0;36mmuni\u001B[1;34m(df)\u001B[0m\n\u001B[0;32m      1\u001B[0m \u001B[38;5;28;01mdef\u001B[39;00m \u001B[38;5;21mmuni\u001B[39m(df):\n\u001B[1;32m----> 2\u001B[0m     good \u001B[38;5;241m=\u001B[39m df\u001B[38;5;241m.\u001B[39mloc[\u001B[43mdf\u001B[49m\u001B[43m[\u001B[49m\u001B[38;5;124;43m'\u001B[39;49m\u001B[38;5;124;43mTarget\u001B[39;49m\u001B[38;5;124;43m'\u001B[39;49m\u001B[43m]\u001B[49m\u001B[38;5;241m==\u001B[39m\u001B[38;5;241m1\u001B[39m]\u001B[38;5;241m.\u001B[39mgroupby([\u001B[38;5;124m'\u001B[39m\u001B[38;5;124mMUNICIPALITY\u001B[39m\u001B[38;5;124m'\u001B[39m])[\u001B[38;5;124m'\u001B[39m\u001B[38;5;124mMUNICIPALITY\u001B[39m\u001B[38;5;124m'\u001B[39m]\u001B[38;5;241m.\u001B[39mcount()\u001B[38;5;241m/\u001B[39mdf\u001B[38;5;241m.\u001B[39mloc[df[\u001B[38;5;124m'\u001B[39m\u001B[38;5;124mTarget\u001B[39m\u001B[38;5;124m'\u001B[39m]\u001B[38;5;241m==\u001B[39m\u001B[38;5;241m1\u001B[39m]\u001B[38;5;241m.\u001B[39mcount()[\u001B[38;5;241m0\u001B[39m]\n\u001B[0;32m      3\u001B[0m     bad \u001B[38;5;241m=\u001B[39m df\u001B[38;5;241m.\u001B[39mloc[df[\u001B[38;5;124m'\u001B[39m\u001B[38;5;124mTarget\u001B[39m\u001B[38;5;124m'\u001B[39m]\u001B[38;5;241m==\u001B[39m\u001B[38;5;241m0\u001B[39m]\u001B[38;5;241m.\u001B[39mgroupby([\u001B[38;5;124m'\u001B[39m\u001B[38;5;124mMUNICIPALITY\u001B[39m\u001B[38;5;124m'\u001B[39m])[\u001B[38;5;124m'\u001B[39m\u001B[38;5;124mMUNICIPALITY\u001B[39m\u001B[38;5;124m'\u001B[39m]\u001B[38;5;241m.\u001B[39mcount()\u001B[38;5;241m/\u001B[39mdf\u001B[38;5;241m.\u001B[39mloc[df[\u001B[38;5;124m'\u001B[39m\u001B[38;5;124mTarget\u001B[39m\u001B[38;5;124m'\u001B[39m]\u001B[38;5;241m==\u001B[39m\u001B[38;5;241m0\u001B[39m]\u001B[38;5;241m.\u001B[39mcount()[\u001B[38;5;241m0\u001B[39m]\n\u001B[0;32m      4\u001B[0m     index \u001B[38;5;241m=\u001B[39m (bad\u001B[38;5;241m/\u001B[39mgood)\u001B[38;5;241m*\u001B[39m\u001B[38;5;241m100\u001B[39m\n",
      "File \u001B[1;32m~\\AppData\\Local\\Programs\\Python\\Python311\\Lib\\site-packages\\pandas\\core\\frame.py:3807\u001B[0m, in \u001B[0;36mDataFrame.__getitem__\u001B[1;34m(self, key)\u001B[0m\n\u001B[0;32m   3805\u001B[0m \u001B[38;5;28;01mif\u001B[39;00m \u001B[38;5;28mself\u001B[39m\u001B[38;5;241m.\u001B[39mcolumns\u001B[38;5;241m.\u001B[39mnlevels \u001B[38;5;241m>\u001B[39m \u001B[38;5;241m1\u001B[39m:\n\u001B[0;32m   3806\u001B[0m     \u001B[38;5;28;01mreturn\u001B[39;00m \u001B[38;5;28mself\u001B[39m\u001B[38;5;241m.\u001B[39m_getitem_multilevel(key)\n\u001B[1;32m-> 3807\u001B[0m indexer \u001B[38;5;241m=\u001B[39m \u001B[38;5;28;43mself\u001B[39;49m\u001B[38;5;241;43m.\u001B[39;49m\u001B[43mcolumns\u001B[49m\u001B[38;5;241;43m.\u001B[39;49m\u001B[43mget_loc\u001B[49m\u001B[43m(\u001B[49m\u001B[43mkey\u001B[49m\u001B[43m)\u001B[49m\n\u001B[0;32m   3808\u001B[0m \u001B[38;5;28;01mif\u001B[39;00m is_integer(indexer):\n\u001B[0;32m   3809\u001B[0m     indexer \u001B[38;5;241m=\u001B[39m [indexer]\n",
      "File \u001B[1;32m~\\AppData\\Local\\Programs\\Python\\Python311\\Lib\\site-packages\\pandas\\core\\indexes\\base.py:3804\u001B[0m, in \u001B[0;36mIndex.get_loc\u001B[1;34m(self, key, method, tolerance)\u001B[0m\n\u001B[0;32m   3802\u001B[0m     \u001B[38;5;28;01mreturn\u001B[39;00m \u001B[38;5;28mself\u001B[39m\u001B[38;5;241m.\u001B[39m_engine\u001B[38;5;241m.\u001B[39mget_loc(casted_key)\n\u001B[0;32m   3803\u001B[0m \u001B[38;5;28;01mexcept\u001B[39;00m \u001B[38;5;167;01mKeyError\u001B[39;00m \u001B[38;5;28;01mas\u001B[39;00m err:\n\u001B[1;32m-> 3804\u001B[0m     \u001B[38;5;28;01mraise\u001B[39;00m \u001B[38;5;167;01mKeyError\u001B[39;00m(key) \u001B[38;5;28;01mfrom\u001B[39;00m \u001B[38;5;21;01merr\u001B[39;00m\n\u001B[0;32m   3805\u001B[0m \u001B[38;5;28;01mexcept\u001B[39;00m \u001B[38;5;167;01mTypeError\u001B[39;00m:\n\u001B[0;32m   3806\u001B[0m     \u001B[38;5;66;03m# If we have a listlike key, _check_indexing_error will raise\u001B[39;00m\n\u001B[0;32m   3807\u001B[0m     \u001B[38;5;66;03m#  InvalidIndexError. Otherwise we fall through and re-raise\u001B[39;00m\n\u001B[0;32m   3808\u001B[0m     \u001B[38;5;66;03m#  the TypeError.\u001B[39;00m\n\u001B[0;32m   3809\u001B[0m     \u001B[38;5;28mself\u001B[39m\u001B[38;5;241m.\u001B[39m_check_indexing_error(key)\n",
      "\u001B[1;31mKeyError\u001B[0m: 'Target'"
     ]
    }
   ],
   "source": [],
   "metadata": {
    "collapsed": false
   }
  },
  {
   "cell_type": "code",
   "execution_count": 19,
   "outputs": [
    {
     "name": "stdout",
     "output_type": "stream",
     "text": [
      "(131144, 65) (32787, 65) (131144, 1) (32787, 1)\n"
     ]
    }
   ],
   "source": [
    "X_train, X_test, y_train, y_test = train_test_split(df.loc[:, ~df.columns.isin(['Target'])],\n",
    "                                                    df.loc[:, df.columns == 'Target'], shuffle=True, test_size=0.2,\n",
    "                                                    random_state=42, stratify=df.loc[:, df.columns == 'Target'])\n",
    "print(X_train.shape, X_test.shape, y_train.shape, y_test.shape)\n",
    "X_train.to_pickle('x_train_lvl3.pkl')\n",
    "X_test.to_pickle('x_test_lvl3.pkl')\n",
    "y_train.to_pickle('y_train_lvl3.pkl')\n",
    "y_test.to_pickle('y_test_lvl3.pkl')"
   ],
   "metadata": {
    "collapsed": false
   }
  },
  {
   "cell_type": "markdown",
   "source": [
    "# Lvl 3 - inclusive income per person\n"
   ],
   "metadata": {
    "collapsed": false
   }
  },
  {
   "cell_type": "code",
   "execution_count": 44,
   "outputs": [],
   "source": [
    "df['HOU_HOLHOMOWNR'] = (df['HOU_HOLHOMOWNR']==True).astype(int)\n",
    "df['BUSINESS_ON_ADRESS'] = (df['BUSINESS_ON_ADRESS']==True).astype(int)\n",
    "df['Target'] = df.Target.astype(int)\n",
    "df= df.drop(['CNZGRP', 'UNADR_KEY', 'PER_INCO_AVG'], axis=1)"
   ],
   "metadata": {
    "collapsed": false
   }
  },
  {
   "cell_type": "code",
   "execution_count": 45,
   "outputs": [
    {
     "name": "stdout",
     "output_type": "stream",
     "text": [
      "[3. 2. 4. 3. 1. 1. 2. 3. 2. 4. 3. 3. 2. 3. 4. 2. 2. 2. 1. 2. 3. 2. 1. 2.\n",
      " 1. 2. 2. 3. 3. 2. 1. 1. 3. 2. 3. 3. 3. 4. 3. 4. 1. 4. 4. 4. 3. 3. 3. 2.\n",
      " 2. 2. 3. 3. 3. 2. 3. 4. 4. 2. 3. 4. 3. 1. 3. 2. 4. 3. 2. 1. 1. 1. 3. 4.\n",
      " 4. 2. 2. 1. 1. 3. 3. 2. 1. 2. 1. 2. 1. 4. 3. 2. 3. 1. 2. 4. 3. 1. 3. 2.\n",
      " 2. 2.]\n"
     ]
    }
   ],
   "source": [
    "df = employment(df)\n",
    "df = child(df)\n",
    "df = mari_status(df)\n",
    "df = ownship(df)\n",
    "df = muni(df)"
   ],
   "metadata": {
    "collapsed": false
   }
  },
  {
   "cell_type": "code",
   "execution_count": 46,
   "outputs": [
    {
     "name": "stdout",
     "output_type": "stream",
     "text": [
      "<class 'pandas.core.frame.DataFrame'>\n",
      "RangeIndex: 163132 entries, 0 to 163131\n",
      "Data columns (total 21 columns):\n",
      " #   Column              Non-Null Count   Dtype   \n",
      "---  ------              --------------   -----   \n",
      " 0   UNADR_KEY           163132 non-null  int64   \n",
      " 1   HOU_HOLHOMOWNR      163132 non-null  int32   \n",
      " 2   MUNICIPALITY        163132 non-null  category\n",
      " 3   CNZTYP              163132 non-null  object  \n",
      " 4   OWNSHIP             163132 non-null  category\n",
      " 5   USAGE               163132 non-null  object  \n",
      " 6   AREA                163132 non-null  float64 \n",
      " 7   ROOMS               163132 non-null  float64 \n",
      " 8   BUSINESS_ON_ADRESS  163132 non-null  int32   \n",
      " 9   PER_COU_UNADR       163132 non-null  float64 \n",
      " 10  CAR_AVG             163132 non-null  float64 \n",
      " 11  EDU_AVG             163132 non-null  float64 \n",
      " 12  HOU_INCO_AVG        163132 non-null  float64 \n",
      " 13  SOCGRP_AVG          163132 non-null  float64 \n",
      " 14  WEALTH_AVG          163132 non-null  float64 \n",
      " 15  AGE_OLDST_AVG       163132 non-null  float64 \n",
      " 16  CHL_AVG             163132 non-null  float64 \n",
      " 17  Target              163132 non-null  int32   \n",
      " 18  PER_INCO_AVG2       163132 non-null  float64 \n",
      " 19  EMPL_STATUS         163132 non-null  category\n",
      " 20  MARI_STATUS         163132 non-null  category\n",
      "dtypes: category(4), float64(11), int32(3), int64(1), object(2)\n",
      "memory usage: 19.9+ MB\n"
     ]
    }
   ],
   "source": [
    "df.info()"
   ],
   "metadata": {
    "collapsed": false
   }
  },
  {
   "cell_type": "code",
   "execution_count": 47,
   "outputs": [
    {
     "data": {
      "text/plain": "   UNADR_KEY  HOU_HOLHOMOWNR  OWNSHIP  AREA  ROOMS  BUSINESS_ON_ADRESS  \\\n0   20000021               0        0    59      2                   0   \n1   20000034               0        0    59      2                   0   \n2   20000035               0        0    68      3                   1   \n3   20000041               0        0    31      1                   1   \n4   20000048               0        0    79      4                   0   \n\n   PER_COU_UNADR  CAR_AVG  EDU_AVG  HOU_INCO_AVG  ...  CNZTYP_H1  CNZTYP_H2  \\\n0         1.4583     0.00    12.67        251903  ...          0          0   \n1         2.2157     0.18    13.67        277590  ...          0          0   \n2         2.2157     0.32    14.29        296572  ...          0          0   \n3         2.2157     0.00    11.67        221745  ...          0          0   \n4         2.2157     0.48    13.46        564137  ...          0          0   \n\n   CNZTYP_I1  CNZTYP_I2  CNZTYP_I3  CNZTYP_I4  MUNICIPALITY_1  MUNICIPALITY_2  \\\n0          0          0          0          0               0               0   \n1          0          0          0          0               0               0   \n2          0          0          0          0               0               0   \n3          0          0          0          0               0               0   \n4          0          0          0          0               0               0   \n\n   MUNICIPALITY_3  MUNICIPALITY_4  \n0               1               0  \n1               1               0  \n2               1               0  \n3               1               0  \n4               1               0  \n\n[5 rows x 68 columns]",
      "text/html": "<div>\n<style scoped>\n    .dataframe tbody tr th:only-of-type {\n        vertical-align: middle;\n    }\n\n    .dataframe tbody tr th {\n        vertical-align: top;\n    }\n\n    .dataframe thead th {\n        text-align: right;\n    }\n</style>\n<table border=\"1\" class=\"dataframe\">\n  <thead>\n    <tr style=\"text-align: right;\">\n      <th></th>\n      <th>UNADR_KEY</th>\n      <th>HOU_HOLHOMOWNR</th>\n      <th>OWNSHIP</th>\n      <th>AREA</th>\n      <th>ROOMS</th>\n      <th>BUSINESS_ON_ADRESS</th>\n      <th>PER_COU_UNADR</th>\n      <th>CAR_AVG</th>\n      <th>EDU_AVG</th>\n      <th>HOU_INCO_AVG</th>\n      <th>...</th>\n      <th>CNZTYP_H1</th>\n      <th>CNZTYP_H2</th>\n      <th>CNZTYP_I1</th>\n      <th>CNZTYP_I2</th>\n      <th>CNZTYP_I3</th>\n      <th>CNZTYP_I4</th>\n      <th>MUNICIPALITY_1</th>\n      <th>MUNICIPALITY_2</th>\n      <th>MUNICIPALITY_3</th>\n      <th>MUNICIPALITY_4</th>\n    </tr>\n  </thead>\n  <tbody>\n    <tr>\n      <th>0</th>\n      <td>20000021</td>\n      <td>0</td>\n      <td>0</td>\n      <td>59</td>\n      <td>2</td>\n      <td>0</td>\n      <td>1.4583</td>\n      <td>0.00</td>\n      <td>12.67</td>\n      <td>251903</td>\n      <td>...</td>\n      <td>0</td>\n      <td>0</td>\n      <td>0</td>\n      <td>0</td>\n      <td>0</td>\n      <td>0</td>\n      <td>0</td>\n      <td>0</td>\n      <td>1</td>\n      <td>0</td>\n    </tr>\n    <tr>\n      <th>1</th>\n      <td>20000034</td>\n      <td>0</td>\n      <td>0</td>\n      <td>59</td>\n      <td>2</td>\n      <td>0</td>\n      <td>2.2157</td>\n      <td>0.18</td>\n      <td>13.67</td>\n      <td>277590</td>\n      <td>...</td>\n      <td>0</td>\n      <td>0</td>\n      <td>0</td>\n      <td>0</td>\n      <td>0</td>\n      <td>0</td>\n      <td>0</td>\n      <td>0</td>\n      <td>1</td>\n      <td>0</td>\n    </tr>\n    <tr>\n      <th>2</th>\n      <td>20000035</td>\n      <td>0</td>\n      <td>0</td>\n      <td>68</td>\n      <td>3</td>\n      <td>1</td>\n      <td>2.2157</td>\n      <td>0.32</td>\n      <td>14.29</td>\n      <td>296572</td>\n      <td>...</td>\n      <td>0</td>\n      <td>0</td>\n      <td>0</td>\n      <td>0</td>\n      <td>0</td>\n      <td>0</td>\n      <td>0</td>\n      <td>0</td>\n      <td>1</td>\n      <td>0</td>\n    </tr>\n    <tr>\n      <th>3</th>\n      <td>20000041</td>\n      <td>0</td>\n      <td>0</td>\n      <td>31</td>\n      <td>1</td>\n      <td>1</td>\n      <td>2.2157</td>\n      <td>0.00</td>\n      <td>11.67</td>\n      <td>221745</td>\n      <td>...</td>\n      <td>0</td>\n      <td>0</td>\n      <td>0</td>\n      <td>0</td>\n      <td>0</td>\n      <td>0</td>\n      <td>0</td>\n      <td>0</td>\n      <td>1</td>\n      <td>0</td>\n    </tr>\n    <tr>\n      <th>4</th>\n      <td>20000048</td>\n      <td>0</td>\n      <td>0</td>\n      <td>79</td>\n      <td>4</td>\n      <td>0</td>\n      <td>2.2157</td>\n      <td>0.48</td>\n      <td>13.46</td>\n      <td>564137</td>\n      <td>...</td>\n      <td>0</td>\n      <td>0</td>\n      <td>0</td>\n      <td>0</td>\n      <td>0</td>\n      <td>0</td>\n      <td>0</td>\n      <td>0</td>\n      <td>1</td>\n      <td>0</td>\n    </tr>\n  </tbody>\n</table>\n<p>5 rows × 68 columns</p>\n</div>"
     },
     "execution_count": 47,
     "metadata": {},
     "output_type": "execute_result"
    }
   ],
   "source": [
    "df = df.loc[~((df['ROOMS'] > 9) & (df['USAGE'] != 'Farmhouse') & (df['USAGE'] != 'Institution') & (\n",
    "            df['BUSINESS_ON_ADRESS'] == False))]\n",
    "df = pd.get_dummies(df, columns=['USAGE', 'CNZTYP', 'MUNICIPALITY'])\n",
    "df['AREA'] = df.AREA.astype(int)\n",
    "df['ROOMS'] = df.ROOMS.astype(int)\n",
    "df['HOU_INCO_AVG'] = df.HOU_INCO_AVG.astype(int)\n",
    "df['WEALTH_AVG'] = df.WEALTH_AVG.astype(int)\n",
    "df['EMPL_STATUS'] = df.EMPL_STATUS.astype(int)\n",
    "df['MARI_STATUS'] = df.MARI_STATUS.astype(int)\n",
    "df['OWNSHIP'] = df.OWNSHIP.astype(int)\n",
    "df['HOU_HOLHOMOWNR'] = (df['HOU_HOLHOMOWNR'] == True).astype(int)\n",
    "df['BUSINESS_ON_ADRESS'] = (df['BUSINESS_ON_ADRESS'] == True).astype(int)\n",
    "df['Target'] = df.Target.astype(int)\n",
    "df.head()"
   ],
   "metadata": {
    "collapsed": false
   }
  },
  {
   "cell_type": "code",
   "execution_count": 36,
   "outputs": [
    {
     "data": {
      "text/plain": "   HOU_HOLHOMOWNR  OWNSHIP  AREA  ROOMS  BUSINESS_ON_ADRESS  PER_COU_UNADR  \\\n0               0        0    59      2                   0         1.4583   \n1               0        0    59      2                   0         2.2157   \n2               0        0    68      3                   1         2.2157   \n3               0        0    31      1                   1         2.2157   \n4               0        0    79      4                   0         2.2157   \n\n   CAR_AVG  EDU_AVG  HOU_INCO_AVG  SOCGRP_AVG  ...  CNZTYP_H1  CNZTYP_H2  \\\n0     0.00    12.67        251903    3.281095  ...          0          0   \n1     0.18    13.67        277590    3.169154  ...          0          0   \n2     0.32    14.29        296572    3.002463  ...          0          0   \n3     0.00    11.67        221745    3.845905  ...          0          0   \n4     0.48    13.46        564137    3.002463  ...          0          0   \n\n   CNZTYP_I1  CNZTYP_I2  CNZTYP_I3  CNZTYP_I4  MUNICIPALITY_1  MUNICIPALITY_2  \\\n0          0          0          0          0               0               0   \n1          0          0          0          0               0               0   \n2          0          0          0          0               0               0   \n3          0          0          0          0               0               0   \n4          0          0          0          0               0               0   \n\n   MUNICIPALITY_3  MUNICIPALITY_4  \n0               1               0  \n1               1               0  \n2               1               0  \n3               1               0  \n4               1               0  \n\n[5 rows x 67 columns]",
      "text/html": "<div>\n<style scoped>\n    .dataframe tbody tr th:only-of-type {\n        vertical-align: middle;\n    }\n\n    .dataframe tbody tr th {\n        vertical-align: top;\n    }\n\n    .dataframe thead th {\n        text-align: right;\n    }\n</style>\n<table border=\"1\" class=\"dataframe\">\n  <thead>\n    <tr style=\"text-align: right;\">\n      <th></th>\n      <th>HOU_HOLHOMOWNR</th>\n      <th>OWNSHIP</th>\n      <th>AREA</th>\n      <th>ROOMS</th>\n      <th>BUSINESS_ON_ADRESS</th>\n      <th>PER_COU_UNADR</th>\n      <th>CAR_AVG</th>\n      <th>EDU_AVG</th>\n      <th>HOU_INCO_AVG</th>\n      <th>SOCGRP_AVG</th>\n      <th>...</th>\n      <th>CNZTYP_H1</th>\n      <th>CNZTYP_H2</th>\n      <th>CNZTYP_I1</th>\n      <th>CNZTYP_I2</th>\n      <th>CNZTYP_I3</th>\n      <th>CNZTYP_I4</th>\n      <th>MUNICIPALITY_1</th>\n      <th>MUNICIPALITY_2</th>\n      <th>MUNICIPALITY_3</th>\n      <th>MUNICIPALITY_4</th>\n    </tr>\n  </thead>\n  <tbody>\n    <tr>\n      <th>0</th>\n      <td>0</td>\n      <td>0</td>\n      <td>59</td>\n      <td>2</td>\n      <td>0</td>\n      <td>1.4583</td>\n      <td>0.00</td>\n      <td>12.67</td>\n      <td>251903</td>\n      <td>3.281095</td>\n      <td>...</td>\n      <td>0</td>\n      <td>0</td>\n      <td>0</td>\n      <td>0</td>\n      <td>0</td>\n      <td>0</td>\n      <td>0</td>\n      <td>0</td>\n      <td>1</td>\n      <td>0</td>\n    </tr>\n    <tr>\n      <th>1</th>\n      <td>0</td>\n      <td>0</td>\n      <td>59</td>\n      <td>2</td>\n      <td>0</td>\n      <td>2.2157</td>\n      <td>0.18</td>\n      <td>13.67</td>\n      <td>277590</td>\n      <td>3.169154</td>\n      <td>...</td>\n      <td>0</td>\n      <td>0</td>\n      <td>0</td>\n      <td>0</td>\n      <td>0</td>\n      <td>0</td>\n      <td>0</td>\n      <td>0</td>\n      <td>1</td>\n      <td>0</td>\n    </tr>\n    <tr>\n      <th>2</th>\n      <td>0</td>\n      <td>0</td>\n      <td>68</td>\n      <td>3</td>\n      <td>1</td>\n      <td>2.2157</td>\n      <td>0.32</td>\n      <td>14.29</td>\n      <td>296572</td>\n      <td>3.002463</td>\n      <td>...</td>\n      <td>0</td>\n      <td>0</td>\n      <td>0</td>\n      <td>0</td>\n      <td>0</td>\n      <td>0</td>\n      <td>0</td>\n      <td>0</td>\n      <td>1</td>\n      <td>0</td>\n    </tr>\n    <tr>\n      <th>3</th>\n      <td>0</td>\n      <td>0</td>\n      <td>31</td>\n      <td>1</td>\n      <td>1</td>\n      <td>2.2157</td>\n      <td>0.00</td>\n      <td>11.67</td>\n      <td>221745</td>\n      <td>3.845905</td>\n      <td>...</td>\n      <td>0</td>\n      <td>0</td>\n      <td>0</td>\n      <td>0</td>\n      <td>0</td>\n      <td>0</td>\n      <td>0</td>\n      <td>0</td>\n      <td>1</td>\n      <td>0</td>\n    </tr>\n    <tr>\n      <th>4</th>\n      <td>0</td>\n      <td>0</td>\n      <td>79</td>\n      <td>4</td>\n      <td>0</td>\n      <td>2.2157</td>\n      <td>0.48</td>\n      <td>13.46</td>\n      <td>564137</td>\n      <td>3.002463</td>\n      <td>...</td>\n      <td>0</td>\n      <td>0</td>\n      <td>0</td>\n      <td>0</td>\n      <td>0</td>\n      <td>0</td>\n      <td>0</td>\n      <td>0</td>\n      <td>1</td>\n      <td>0</td>\n    </tr>\n  </tbody>\n</table>\n<p>5 rows × 67 columns</p>\n</div>"
     },
     "execution_count": 36,
     "metadata": {},
     "output_type": "execute_result"
    }
   ],
   "source": [
    "df.head()"
   ],
   "metadata": {
    "collapsed": false
   }
  },
  {
   "cell_type": "code",
   "execution_count": 48,
   "outputs": [
    {
     "name": "stdout",
     "output_type": "stream",
     "text": [
      "(122067, 67) (40690, 67) (122067, 1) (40690, 1)\n"
     ]
    }
   ],
   "source": [
    "X_train, X_test, y_train, y_test = train_test_split(df.loc[:, ~df.columns.isin(['Target'])],\n",
    "                                                    df.loc[:, df.columns == 'Target'], shuffle=True, test_size=0.25,\n",
    "                                                    random_state=1, stratify=df.loc[:, df.columns == 'Target'])\n",
    "print(X_train.shape, X_test.shape, y_train.shape, y_test.shape)\n",
    "#X_train.to_pickle('x_train_lvl3.pkl')\n",
    "#X_test.to_pickle('x_test_lvl3.pkl')\n",
    "#y_train.to_pickle('y_train_lvl3.pkl')\n",
    "#y_test.to_pickle('y_test_lvl3.pkl')"
   ],
   "metadata": {
    "collapsed": false
   }
  },
  {
   "cell_type": "markdown",
   "source": [
    "# Lvl 4 (bank)"
   ],
   "metadata": {
    "collapsed": false
   }
  },
  {
   "cell_type": "code",
   "execution_count": 46,
   "outputs": [],
   "source": [
    "df = pd.get_dummies(df, columns=['CL_age','CL_accom', 'Employment'])\n",
    "df['Salary'] = df.Salary.astype(int)\n",
    "df = df.rename(columns={\"gbflag\": \"Target\"})"
   ],
   "metadata": {
    "collapsed": false
   }
  },
  {
   "cell_type": "code",
   "execution_count": 47,
   "outputs": [
    {
     "data": {
      "text/plain": "   Target  Salary  CL_age_27-36  CL_age_37-47  CL_age_48-61  CL_age_62-High  \\\n0       0   15000             1             0             0               0   \n1       0   13100             0             0             1               0   \n2       0   12000             1             0             0               0   \n3       0   13000             0             0             0               1   \n4       0   10288             0             0             0               1   \n\n   CL_age_LOW-26  CL_accom_Ejer  CL_accom_Lejer  CL_accom_Other  \\\n0              0              0               1               0   \n1              0              0               1               0   \n2              0              0               1               0   \n3              0              0               1               0   \n4              0              0               1               0   \n\n   Employment_Arbejdsløs  Employment_Efterløn  Employment_Funktionær  \\\n0                      0                    0                      1   \n1                      0                    0                      0   \n2                      0                    0                      0   \n3                      0                    0                      0   \n4                      0                    0                      0   \n\n   Employment_Hjemmegående  Employment_Ledelse  Employment_Other  \\\n0                        0                   0                 0   \n1                        0                   0                 0   \n2                        1                   0                 0   \n3                        0                   0                 0   \n4                        0                   0                 1   \n\n   Employment_Pensionist  Employment_Selvstændig  Employment_Studerende  \\\n0                      0                       0                      0   \n1                      1                       0                      0   \n2                      0                       0                      0   \n3                      1                       0                      0   \n4                      0                       0                      0   \n\n   Employment_Timelønnet  \n0                      0  \n1                      0  \n2                      0  \n3                      0  \n4                      0  ",
      "text/html": "<div>\n<style scoped>\n    .dataframe tbody tr th:only-of-type {\n        vertical-align: middle;\n    }\n\n    .dataframe tbody tr th {\n        vertical-align: top;\n    }\n\n    .dataframe thead th {\n        text-align: right;\n    }\n</style>\n<table border=\"1\" class=\"dataframe\">\n  <thead>\n    <tr style=\"text-align: right;\">\n      <th></th>\n      <th>Target</th>\n      <th>Salary</th>\n      <th>CL_age_27-36</th>\n      <th>CL_age_37-47</th>\n      <th>CL_age_48-61</th>\n      <th>CL_age_62-High</th>\n      <th>CL_age_LOW-26</th>\n      <th>CL_accom_Ejer</th>\n      <th>CL_accom_Lejer</th>\n      <th>CL_accom_Other</th>\n      <th>Employment_Arbejdsløs</th>\n      <th>Employment_Efterløn</th>\n      <th>Employment_Funktionær</th>\n      <th>Employment_Hjemmegående</th>\n      <th>Employment_Ledelse</th>\n      <th>Employment_Other</th>\n      <th>Employment_Pensionist</th>\n      <th>Employment_Selvstændig</th>\n      <th>Employment_Studerende</th>\n      <th>Employment_Timelønnet</th>\n    </tr>\n  </thead>\n  <tbody>\n    <tr>\n      <th>0</th>\n      <td>0</td>\n      <td>15000</td>\n      <td>1</td>\n      <td>0</td>\n      <td>0</td>\n      <td>0</td>\n      <td>0</td>\n      <td>0</td>\n      <td>1</td>\n      <td>0</td>\n      <td>0</td>\n      <td>0</td>\n      <td>1</td>\n      <td>0</td>\n      <td>0</td>\n      <td>0</td>\n      <td>0</td>\n      <td>0</td>\n      <td>0</td>\n      <td>0</td>\n    </tr>\n    <tr>\n      <th>1</th>\n      <td>0</td>\n      <td>13100</td>\n      <td>0</td>\n      <td>0</td>\n      <td>1</td>\n      <td>0</td>\n      <td>0</td>\n      <td>0</td>\n      <td>1</td>\n      <td>0</td>\n      <td>0</td>\n      <td>0</td>\n      <td>0</td>\n      <td>0</td>\n      <td>0</td>\n      <td>0</td>\n      <td>1</td>\n      <td>0</td>\n      <td>0</td>\n      <td>0</td>\n    </tr>\n    <tr>\n      <th>2</th>\n      <td>0</td>\n      <td>12000</td>\n      <td>1</td>\n      <td>0</td>\n      <td>0</td>\n      <td>0</td>\n      <td>0</td>\n      <td>0</td>\n      <td>1</td>\n      <td>0</td>\n      <td>0</td>\n      <td>0</td>\n      <td>0</td>\n      <td>1</td>\n      <td>0</td>\n      <td>0</td>\n      <td>0</td>\n      <td>0</td>\n      <td>0</td>\n      <td>0</td>\n    </tr>\n    <tr>\n      <th>3</th>\n      <td>0</td>\n      <td>13000</td>\n      <td>0</td>\n      <td>0</td>\n      <td>0</td>\n      <td>1</td>\n      <td>0</td>\n      <td>0</td>\n      <td>1</td>\n      <td>0</td>\n      <td>0</td>\n      <td>0</td>\n      <td>0</td>\n      <td>0</td>\n      <td>0</td>\n      <td>0</td>\n      <td>1</td>\n      <td>0</td>\n      <td>0</td>\n      <td>0</td>\n    </tr>\n    <tr>\n      <th>4</th>\n      <td>0</td>\n      <td>10288</td>\n      <td>0</td>\n      <td>0</td>\n      <td>0</td>\n      <td>1</td>\n      <td>0</td>\n      <td>0</td>\n      <td>1</td>\n      <td>0</td>\n      <td>0</td>\n      <td>0</td>\n      <td>0</td>\n      <td>0</td>\n      <td>0</td>\n      <td>1</td>\n      <td>0</td>\n      <td>0</td>\n      <td>0</td>\n      <td>0</td>\n    </tr>\n  </tbody>\n</table>\n</div>"
     },
     "execution_count": 47,
     "metadata": {},
     "output_type": "execute_result"
    }
   ],
   "source": [
    "df.head()"
   ],
   "metadata": {
    "collapsed": false
   }
  },
  {
   "cell_type": "code",
   "execution_count": 48,
   "outputs": [
    {
     "data": {
      "text/plain": "   Target  Salary  CL_age_27-36  CL_age_37-47  CL_age_48-61  CL_age_62-High  \\\n0       0   15000             1             0             0               0   \n1       0   13100             0             0             1               0   \n2       0   12000             1             0             0               0   \n3       0   13000             0             0             0               1   \n4       0   10288             0             0             0               1   \n\n   CL_age_LOW-26  CL_accom_Ejer  CL_accom_Lejer  CL_accom_Other  \\\n0              0              0               1               0   \n1              0              0               1               0   \n2              0              0               1               0   \n3              0              0               1               0   \n4              0              0               1               0   \n\n   Employment_Arbejdsløs  Employment_Efterløn  Employment_Funktionær  \\\n0                      0                    0                      1   \n1                      0                    0                      0   \n2                      0                    0                      0   \n3                      0                    0                      0   \n4                      0                    0                      0   \n\n   Employment_Hjemmegående  Employment_Ledelse  Employment_Other  \\\n0                        0                   0                 0   \n1                        0                   0                 0   \n2                        1                   0                 0   \n3                        0                   0                 0   \n4                        0                   0                 1   \n\n   Employment_Pensionist  Employment_Selvstændig  Employment_Studerende  \\\n0                      0                       0                      0   \n1                      1                       0                      0   \n2                      0                       0                      0   \n3                      1                       0                      0   \n4                      0                       0                      0   \n\n   Employment_Timelønnet  \n0                      0  \n1                      0  \n2                      0  \n3                      0  \n4                      0  ",
      "text/html": "<div>\n<style scoped>\n    .dataframe tbody tr th:only-of-type {\n        vertical-align: middle;\n    }\n\n    .dataframe tbody tr th {\n        vertical-align: top;\n    }\n\n    .dataframe thead th {\n        text-align: right;\n    }\n</style>\n<table border=\"1\" class=\"dataframe\">\n  <thead>\n    <tr style=\"text-align: right;\">\n      <th></th>\n      <th>Target</th>\n      <th>Salary</th>\n      <th>CL_age_27-36</th>\n      <th>CL_age_37-47</th>\n      <th>CL_age_48-61</th>\n      <th>CL_age_62-High</th>\n      <th>CL_age_LOW-26</th>\n      <th>CL_accom_Ejer</th>\n      <th>CL_accom_Lejer</th>\n      <th>CL_accom_Other</th>\n      <th>Employment_Arbejdsløs</th>\n      <th>Employment_Efterløn</th>\n      <th>Employment_Funktionær</th>\n      <th>Employment_Hjemmegående</th>\n      <th>Employment_Ledelse</th>\n      <th>Employment_Other</th>\n      <th>Employment_Pensionist</th>\n      <th>Employment_Selvstændig</th>\n      <th>Employment_Studerende</th>\n      <th>Employment_Timelønnet</th>\n    </tr>\n  </thead>\n  <tbody>\n    <tr>\n      <th>0</th>\n      <td>0</td>\n      <td>15000</td>\n      <td>1</td>\n      <td>0</td>\n      <td>0</td>\n      <td>0</td>\n      <td>0</td>\n      <td>0</td>\n      <td>1</td>\n      <td>0</td>\n      <td>0</td>\n      <td>0</td>\n      <td>1</td>\n      <td>0</td>\n      <td>0</td>\n      <td>0</td>\n      <td>0</td>\n      <td>0</td>\n      <td>0</td>\n      <td>0</td>\n    </tr>\n    <tr>\n      <th>1</th>\n      <td>0</td>\n      <td>13100</td>\n      <td>0</td>\n      <td>0</td>\n      <td>1</td>\n      <td>0</td>\n      <td>0</td>\n      <td>0</td>\n      <td>1</td>\n      <td>0</td>\n      <td>0</td>\n      <td>0</td>\n      <td>0</td>\n      <td>0</td>\n      <td>0</td>\n      <td>0</td>\n      <td>1</td>\n      <td>0</td>\n      <td>0</td>\n      <td>0</td>\n    </tr>\n    <tr>\n      <th>2</th>\n      <td>0</td>\n      <td>12000</td>\n      <td>1</td>\n      <td>0</td>\n      <td>0</td>\n      <td>0</td>\n      <td>0</td>\n      <td>0</td>\n      <td>1</td>\n      <td>0</td>\n      <td>0</td>\n      <td>0</td>\n      <td>0</td>\n      <td>1</td>\n      <td>0</td>\n      <td>0</td>\n      <td>0</td>\n      <td>0</td>\n      <td>0</td>\n      <td>0</td>\n    </tr>\n    <tr>\n      <th>3</th>\n      <td>0</td>\n      <td>13000</td>\n      <td>0</td>\n      <td>0</td>\n      <td>0</td>\n      <td>1</td>\n      <td>0</td>\n      <td>0</td>\n      <td>1</td>\n      <td>0</td>\n      <td>0</td>\n      <td>0</td>\n      <td>0</td>\n      <td>0</td>\n      <td>0</td>\n      <td>0</td>\n      <td>1</td>\n      <td>0</td>\n      <td>0</td>\n      <td>0</td>\n    </tr>\n    <tr>\n      <th>4</th>\n      <td>0</td>\n      <td>10288</td>\n      <td>0</td>\n      <td>0</td>\n      <td>0</td>\n      <td>1</td>\n      <td>0</td>\n      <td>0</td>\n      <td>1</td>\n      <td>0</td>\n      <td>0</td>\n      <td>0</td>\n      <td>0</td>\n      <td>0</td>\n      <td>0</td>\n      <td>1</td>\n      <td>0</td>\n      <td>0</td>\n      <td>0</td>\n      <td>0</td>\n    </tr>\n  </tbody>\n</table>\n</div>"
     },
     "execution_count": 48,
     "metadata": {},
     "output_type": "execute_result"
    }
   ],
   "source": [
    "df.head()"
   ],
   "metadata": {
    "collapsed": false
   }
  },
  {
   "cell_type": "code",
   "execution_count": 49,
   "outputs": [
    {
     "name": "stdout",
     "output_type": "stream",
     "text": [
      "(31796, 19) (7950, 19) (31796, 1) (7950, 1)\n"
     ]
    }
   ],
   "source": [
    "X_train, X_test, y_train, y_test = train_test_split(df.loc[:, ~df.columns.isin(['Target'])],\n",
    "                                                    df.loc[:, df.columns == 'Target'], shuffle=True, test_size=0.2,\n",
    "                                                    random_state=1, stratify=df.loc[:, df.columns == 'Target'])\n",
    "print(X_train.shape, X_test.shape, y_train.shape, y_test.shape)\n",
    "X_train.to_pickle('x_train_lvl4.pkl')\n",
    "X_test.to_pickle('x_test_lvl4.pkl')\n",
    "y_train.to_pickle('y_train_lvl4.pkl')\n",
    "y_test.to_pickle('y_test_lvl4.pkl')"
   ],
   "metadata": {
    "collapsed": false
   }
  },
  {
   "cell_type": "code",
   "execution_count": 134,
   "outputs": [
    {
     "ename": "EOFError",
     "evalue": "Ran out of input",
     "output_type": "error",
     "traceback": [
      "\u001B[1;31m---------------------------------------------------------------------------\u001B[0m",
      "\u001B[1;31mEOFError\u001B[0m                                  Traceback (most recent call last)",
      "Cell \u001B[1;32mIn[134], line 1\u001B[0m\n\u001B[1;32m----> 1\u001B[0m \u001B[43mpd\u001B[49m\u001B[38;5;241;43m.\u001B[39;49m\u001B[43mread_pickle\u001B[49m\u001B[43m(\u001B[49m\u001B[38;5;124;43m'\u001B[39;49m\u001B[38;5;124;43mx_train_lvl4.pkl\u001B[39;49m\u001B[38;5;124;43m'\u001B[39;49m\u001B[43m)\u001B[49m\n",
      "File \u001B[1;32m~\\AppData\\Local\\Programs\\Python\\Python311\\Lib\\site-packages\\pandas\\io\\pickle.py:208\u001B[0m, in \u001B[0;36mread_pickle\u001B[1;34m(filepath_or_buffer, compression, storage_options)\u001B[0m\n\u001B[0;32m    205\u001B[0m     \u001B[38;5;28;01mwith\u001B[39;00m warnings\u001B[38;5;241m.\u001B[39mcatch_warnings(record\u001B[38;5;241m=\u001B[39m\u001B[38;5;28;01mTrue\u001B[39;00m):\n\u001B[0;32m    206\u001B[0m         \u001B[38;5;66;03m# We want to silence any warnings about, e.g. moved modules.\u001B[39;00m\n\u001B[0;32m    207\u001B[0m         warnings\u001B[38;5;241m.\u001B[39msimplefilter(\u001B[38;5;124m\"\u001B[39m\u001B[38;5;124mignore\u001B[39m\u001B[38;5;124m\"\u001B[39m, \u001B[38;5;167;01mWarning\u001B[39;00m)\n\u001B[1;32m--> 208\u001B[0m         \u001B[38;5;28;01mreturn\u001B[39;00m pickle\u001B[38;5;241m.\u001B[39mload(handles\u001B[38;5;241m.\u001B[39mhandle)\n\u001B[0;32m    209\u001B[0m \u001B[38;5;28;01mexcept\u001B[39;00m excs_to_catch:\n\u001B[0;32m    210\u001B[0m     \u001B[38;5;66;03m# e.g.\u001B[39;00m\n\u001B[0;32m    211\u001B[0m     \u001B[38;5;66;03m#  \"No module named 'pandas.core.sparse.series'\"\u001B[39;00m\n\u001B[0;32m    212\u001B[0m     \u001B[38;5;66;03m#  \"Can't get attribute '__nat_unpickle' on <module 'pandas._libs.tslib\"\u001B[39;00m\n\u001B[0;32m    213\u001B[0m     \u001B[38;5;28;01mreturn\u001B[39;00m pc\u001B[38;5;241m.\u001B[39mload(handles\u001B[38;5;241m.\u001B[39mhandle, encoding\u001B[38;5;241m=\u001B[39m\u001B[38;5;28;01mNone\u001B[39;00m)\n",
      "\u001B[1;31mEOFError\u001B[0m: Ran out of input"
     ]
    }
   ],
   "source": [],
   "metadata": {
    "collapsed": false
   }
  },
  {
   "cell_type": "code",
   "execution_count": 49,
   "outputs": [],
   "source": [
    "X_train.to_csv(r'\\\\geo-file\\geomatic\\Temp\\mao\\Thesis\\Data\\X_train_lvl7.csv', index=False)\n",
    "pd.DataFrame(y_train).to_csv(r'\\\\geo-file\\geomatic\\Temp\\mao\\Thesis\\Data\\y_train_lvl7.csv', index=False)\n",
    "X_test.to_csv(r'\\\\geo-file\\geomatic\\Temp\\mao\\Thesis\\Data\\X_test_lvl7.csv', index=False)\n",
    "pd.DataFrame(y_test).to_csv(r'\\\\geo-file\\geomatic\\Temp\\mao\\Thesis\\Data\\y_test_lvl7.csv', index=False)"
   ],
   "metadata": {
    "collapsed": false
   }
  },
  {
   "cell_type": "markdown",
   "source": [
    "# Lvl 5 - like lvl 3 but with no outliers"
   ],
   "metadata": {
    "collapsed": false
   }
  },
  {
   "cell_type": "code",
   "execution_count": 62,
   "outputs": [
    {
     "data": {
      "text/plain": "        HOU_HOLHOMOWNR  OWNSHIP  AREA  ROOMS  BUSINESS_ON_ADRESS  \\\n0                    0        0    59      2                   0   \n1                    0        0    59      2                   0   \n2                    0        0    68      3                   1   \n3                    0        0    31      1                   1   \n4                    0        0    79      4                   0   \n...                ...      ...   ...    ...                 ...   \n163127               0        0   134      5                   0   \n163128               0        1    91      4                   0   \n163129               0        1   160      5                   0   \n163130               0        0    77      2                   0   \n163131               0        0    78      3                   0   \n\n        PER_COU_UNADR  CAR_AVG  EDU_AVG  HOU_INCO_AVG  SOCGRP_AVG  ...  \\\n0              1.4583     0.00    12.67        251903    3.281095  ...   \n1              2.2157     0.18    13.67        277590    3.169154  ...   \n2              2.2157     0.32    14.29        296572    3.002463  ...   \n3              2.2157     0.00    11.67        221745    3.845905  ...   \n4              2.2157     0.48    13.46        564137    3.002463  ...   \n...               ...      ...      ...           ...         ...  ...   \n163127         1.4412     0.74    15.67        702901    2.803483  ...   \n163128         1.7241     0.36    16.33        543046    2.125926  ...   \n163129         2.4286     1.16    13.51        902323    3.270073  ...   \n163130         1.4872     0.36    12.33        299211    3.827196  ...   \n163131         1.0713     0.49    14.26        328743    3.221675  ...   \n\n        CNZTYP_H1  CNZTYP_H2  CNZTYP_I1  CNZTYP_I2  CNZTYP_I3  CNZTYP_I4  \\\n0               0          0          0          0          0          0   \n1               0          0          0          0          0          0   \n2               0          0          0          0          0          0   \n3               0          0          0          0          0          0   \n4               0          0          0          0          0          0   \n...           ...        ...        ...        ...        ...        ...   \n163127          0          0          0          0          0          0   \n163128          0          0          0          0          0          0   \n163129          0          0          0          0          0          0   \n163130          0          0          0          0          0          0   \n163131          0          0          0          0          0          1   \n\n        MUNICIPALITY_1  MUNICIPALITY_2  MUNICIPALITY_3  MUNICIPALITY_4  \n0                    0               0               1               0  \n1                    0               0               1               0  \n2                    0               0               1               0  \n3                    0               0               1               0  \n4                    0               0               1               0  \n...                ...             ...             ...             ...  \n163127               0               0               1               0  \n163128               0               0               1               0  \n163129               1               0               0               0  \n163130               0               1               0               0  \n163131               0               1               0               0  \n\n[162757 rows x 67 columns]",
      "text/html": "<div>\n<style scoped>\n    .dataframe tbody tr th:only-of-type {\n        vertical-align: middle;\n    }\n\n    .dataframe tbody tr th {\n        vertical-align: top;\n    }\n\n    .dataframe thead th {\n        text-align: right;\n    }\n</style>\n<table border=\"1\" class=\"dataframe\">\n  <thead>\n    <tr style=\"text-align: right;\">\n      <th></th>\n      <th>HOU_HOLHOMOWNR</th>\n      <th>OWNSHIP</th>\n      <th>AREA</th>\n      <th>ROOMS</th>\n      <th>BUSINESS_ON_ADRESS</th>\n      <th>PER_COU_UNADR</th>\n      <th>CAR_AVG</th>\n      <th>EDU_AVG</th>\n      <th>HOU_INCO_AVG</th>\n      <th>SOCGRP_AVG</th>\n      <th>...</th>\n      <th>CNZTYP_H1</th>\n      <th>CNZTYP_H2</th>\n      <th>CNZTYP_I1</th>\n      <th>CNZTYP_I2</th>\n      <th>CNZTYP_I3</th>\n      <th>CNZTYP_I4</th>\n      <th>MUNICIPALITY_1</th>\n      <th>MUNICIPALITY_2</th>\n      <th>MUNICIPALITY_3</th>\n      <th>MUNICIPALITY_4</th>\n    </tr>\n  </thead>\n  <tbody>\n    <tr>\n      <th>0</th>\n      <td>0</td>\n      <td>0</td>\n      <td>59</td>\n      <td>2</td>\n      <td>0</td>\n      <td>1.4583</td>\n      <td>0.00</td>\n      <td>12.67</td>\n      <td>251903</td>\n      <td>3.281095</td>\n      <td>...</td>\n      <td>0</td>\n      <td>0</td>\n      <td>0</td>\n      <td>0</td>\n      <td>0</td>\n      <td>0</td>\n      <td>0</td>\n      <td>0</td>\n      <td>1</td>\n      <td>0</td>\n    </tr>\n    <tr>\n      <th>1</th>\n      <td>0</td>\n      <td>0</td>\n      <td>59</td>\n      <td>2</td>\n      <td>0</td>\n      <td>2.2157</td>\n      <td>0.18</td>\n      <td>13.67</td>\n      <td>277590</td>\n      <td>3.169154</td>\n      <td>...</td>\n      <td>0</td>\n      <td>0</td>\n      <td>0</td>\n      <td>0</td>\n      <td>0</td>\n      <td>0</td>\n      <td>0</td>\n      <td>0</td>\n      <td>1</td>\n      <td>0</td>\n    </tr>\n    <tr>\n      <th>2</th>\n      <td>0</td>\n      <td>0</td>\n      <td>68</td>\n      <td>3</td>\n      <td>1</td>\n      <td>2.2157</td>\n      <td>0.32</td>\n      <td>14.29</td>\n      <td>296572</td>\n      <td>3.002463</td>\n      <td>...</td>\n      <td>0</td>\n      <td>0</td>\n      <td>0</td>\n      <td>0</td>\n      <td>0</td>\n      <td>0</td>\n      <td>0</td>\n      <td>0</td>\n      <td>1</td>\n      <td>0</td>\n    </tr>\n    <tr>\n      <th>3</th>\n      <td>0</td>\n      <td>0</td>\n      <td>31</td>\n      <td>1</td>\n      <td>1</td>\n      <td>2.2157</td>\n      <td>0.00</td>\n      <td>11.67</td>\n      <td>221745</td>\n      <td>3.845905</td>\n      <td>...</td>\n      <td>0</td>\n      <td>0</td>\n      <td>0</td>\n      <td>0</td>\n      <td>0</td>\n      <td>0</td>\n      <td>0</td>\n      <td>0</td>\n      <td>1</td>\n      <td>0</td>\n    </tr>\n    <tr>\n      <th>4</th>\n      <td>0</td>\n      <td>0</td>\n      <td>79</td>\n      <td>4</td>\n      <td>0</td>\n      <td>2.2157</td>\n      <td>0.48</td>\n      <td>13.46</td>\n      <td>564137</td>\n      <td>3.002463</td>\n      <td>...</td>\n      <td>0</td>\n      <td>0</td>\n      <td>0</td>\n      <td>0</td>\n      <td>0</td>\n      <td>0</td>\n      <td>0</td>\n      <td>0</td>\n      <td>1</td>\n      <td>0</td>\n    </tr>\n    <tr>\n      <th>...</th>\n      <td>...</td>\n      <td>...</td>\n      <td>...</td>\n      <td>...</td>\n      <td>...</td>\n      <td>...</td>\n      <td>...</td>\n      <td>...</td>\n      <td>...</td>\n      <td>...</td>\n      <td>...</td>\n      <td>...</td>\n      <td>...</td>\n      <td>...</td>\n      <td>...</td>\n      <td>...</td>\n      <td>...</td>\n      <td>...</td>\n      <td>...</td>\n      <td>...</td>\n      <td>...</td>\n    </tr>\n    <tr>\n      <th>163127</th>\n      <td>0</td>\n      <td>0</td>\n      <td>134</td>\n      <td>5</td>\n      <td>0</td>\n      <td>1.4412</td>\n      <td>0.74</td>\n      <td>15.67</td>\n      <td>702901</td>\n      <td>2.803483</td>\n      <td>...</td>\n      <td>0</td>\n      <td>0</td>\n      <td>0</td>\n      <td>0</td>\n      <td>0</td>\n      <td>0</td>\n      <td>0</td>\n      <td>0</td>\n      <td>1</td>\n      <td>0</td>\n    </tr>\n    <tr>\n      <th>163128</th>\n      <td>0</td>\n      <td>1</td>\n      <td>91</td>\n      <td>4</td>\n      <td>0</td>\n      <td>1.7241</td>\n      <td>0.36</td>\n      <td>16.33</td>\n      <td>543046</td>\n      <td>2.125926</td>\n      <td>...</td>\n      <td>0</td>\n      <td>0</td>\n      <td>0</td>\n      <td>0</td>\n      <td>0</td>\n      <td>0</td>\n      <td>0</td>\n      <td>0</td>\n      <td>1</td>\n      <td>0</td>\n    </tr>\n    <tr>\n      <th>163129</th>\n      <td>0</td>\n      <td>1</td>\n      <td>160</td>\n      <td>5</td>\n      <td>0</td>\n      <td>2.4286</td>\n      <td>1.16</td>\n      <td>13.51</td>\n      <td>902323</td>\n      <td>3.270073</td>\n      <td>...</td>\n      <td>0</td>\n      <td>0</td>\n      <td>0</td>\n      <td>0</td>\n      <td>0</td>\n      <td>0</td>\n      <td>1</td>\n      <td>0</td>\n      <td>0</td>\n      <td>0</td>\n    </tr>\n    <tr>\n      <th>163130</th>\n      <td>0</td>\n      <td>0</td>\n      <td>77</td>\n      <td>2</td>\n      <td>0</td>\n      <td>1.4872</td>\n      <td>0.36</td>\n      <td>12.33</td>\n      <td>299211</td>\n      <td>3.827196</td>\n      <td>...</td>\n      <td>0</td>\n      <td>0</td>\n      <td>0</td>\n      <td>0</td>\n      <td>0</td>\n      <td>0</td>\n      <td>0</td>\n      <td>1</td>\n      <td>0</td>\n      <td>0</td>\n    </tr>\n    <tr>\n      <th>163131</th>\n      <td>0</td>\n      <td>0</td>\n      <td>78</td>\n      <td>3</td>\n      <td>0</td>\n      <td>1.0713</td>\n      <td>0.49</td>\n      <td>14.26</td>\n      <td>328743</td>\n      <td>3.221675</td>\n      <td>...</td>\n      <td>0</td>\n      <td>0</td>\n      <td>0</td>\n      <td>0</td>\n      <td>0</td>\n      <td>1</td>\n      <td>0</td>\n      <td>1</td>\n      <td>0</td>\n      <td>0</td>\n    </tr>\n  </tbody>\n</table>\n<p>162757 rows × 67 columns</p>\n</div>"
     },
     "execution_count": 62,
     "metadata": {},
     "output_type": "execute_result"
    }
   ],
   "source": [
    "df"
   ],
   "metadata": {
    "collapsed": false
   }
  },
  {
   "cell_type": "code",
   "execution_count": 154,
   "outputs": [],
   "source": [
    "X_train, X_test, y_train, y_test = train_test_split(df.loc[:, ~df.columns.isin(['Target'])],\n",
    "                                                    df.loc[:, df.columns == 'Target'], shuffle=True, test_size=0.25,\n",
    "                                                    random_state=1, stratify=df.loc[:, df.columns == 'Target'])"
   ],
   "metadata": {
    "collapsed": false
   }
  },
  {
   "cell_type": "code",
   "execution_count": 139,
   "outputs": [],
   "source": [
    "def find_outliers_IQR(df):\n",
    "    q1 = df.quantile(0.25)\n",
    "\n",
    "    q3 = df.quantile(0.75)\n",
    "\n",
    "    IQR = q3 - q1\n",
    "\n",
    "    outliers = df[((df < (q1 - 1.5 * IQR)) | (df > (q3 + 1.5 * IQR)))]\n",
    "\n",
    "    return outliers"
   ],
   "metadata": {
    "collapsed": false
   }
  },
  {
   "cell_type": "code",
   "execution_count": 158,
   "outputs": [
    {
     "name": "stdout",
     "output_type": "stream",
     "text": [
      "(122067, 67) (122067, 1)\n"
     ]
    },
    {
     "data": {
      "text/plain": "(122067, 67)"
     },
     "execution_count": 158,
     "metadata": {},
     "output_type": "execute_result"
    }
   ],
   "source": [
    "print(X_train.shape, y_train.shape)\n",
    "X_train_1 = X_train\n",
    "X_train_1[\"Target\"] = y_train\n",
    "X_train_1.shape"
   ],
   "metadata": {
    "collapsed": false
   }
  },
  {
   "cell_type": "code",
   "execution_count": 161,
   "outputs": [
    {
     "name": "stdout",
     "output_type": "stream",
     "text": [
      "<class 'pandas.core.frame.DataFrame'>\n",
      "Int64Index: 122067 entries, 79091 to 43259\n",
      "Data columns (total 67 columns):\n",
      " #   Column                 Non-Null Count   Dtype  \n",
      "---  ------                 --------------   -----  \n",
      " 0   HOU_HOLHOMOWNR         122067 non-null  int32  \n",
      " 1   OWNSHIP                122067 non-null  int32  \n",
      " 2   AREA                   122067 non-null  int32  \n",
      " 3   ROOMS                  122067 non-null  int32  \n",
      " 4   BUSINESS_ON_ADRESS     122067 non-null  int32  \n",
      " 5   PER_COU_UNADR          122067 non-null  float64\n",
      " 6   CAR_AVG                122067 non-null  float64\n",
      " 7   EDU_AVG                122067 non-null  float64\n",
      " 8   HOU_INCO_AVG           122067 non-null  int32  \n",
      " 9   SOCGRP_AVG             122067 non-null  float64\n",
      " 10  WEALTH_AVG             122067 non-null  int32  \n",
      " 11  AGE_OLDST_AVG          122067 non-null  float64\n",
      " 12  CHL_AVG                122067 non-null  float64\n",
      " 13  PER_INCO_AVG2          122067 non-null  float64\n",
      " 14  EMPL_STATUS            122067 non-null  int32  \n",
      " 15  MARI_STATUS            122067 non-null  int32  \n",
      " 16  USAGE_Apartment        122067 non-null  uint8  \n",
      " 17  USAGE_Attached houses  122067 non-null  uint8  \n",
      " 18  USAGE_Dorm             122067 non-null  uint8  \n",
      " 19  USAGE_Farmhouse        122067 non-null  uint8  \n",
      " 20  USAGE_Institution      122067 non-null  uint8  \n",
      " 21  USAGE_Other            122067 non-null  uint8  \n",
      " 22  USAGE_Villa            122067 non-null  uint8  \n",
      " 23  CNZTYP_A1              122067 non-null  uint8  \n",
      " 24  CNZTYP_A2              122067 non-null  uint8  \n",
      " 25  CNZTYP_A3              122067 non-null  uint8  \n",
      " 26  CNZTYP_A4              122067 non-null  uint8  \n",
      " 27  CNZTYP_A5              122067 non-null  uint8  \n",
      " 28  CNZTYP_B1              122067 non-null  uint8  \n",
      " 29  CNZTYP_B2              122067 non-null  uint8  \n",
      " 30  CNZTYP_B3              122067 non-null  uint8  \n",
      " 31  CNZTYP_B4              122067 non-null  uint8  \n",
      " 32  CNZTYP_B5              122067 non-null  uint8  \n",
      " 33  CNZTYP_C1              122067 non-null  uint8  \n",
      " 34  CNZTYP_C2              122067 non-null  uint8  \n",
      " 35  CNZTYP_C3              122067 non-null  uint8  \n",
      " 36  CNZTYP_C4              122067 non-null  uint8  \n",
      " 37  CNZTYP_C5              122067 non-null  uint8  \n",
      " 38  CNZTYP_D1              122067 non-null  uint8  \n",
      " 39  CNZTYP_D2              122067 non-null  uint8  \n",
      " 40  CNZTYP_D3              122067 non-null  uint8  \n",
      " 41  CNZTYP_D4              122067 non-null  uint8  \n",
      " 42  CNZTYP_E1              122067 non-null  uint8  \n",
      " 43  CNZTYP_E2              122067 non-null  uint8  \n",
      " 44  CNZTYP_E3              122067 non-null  uint8  \n",
      " 45  CNZTYP_E4              122067 non-null  uint8  \n",
      " 46  CNZTYP_E5              122067 non-null  uint8  \n",
      " 47  CNZTYP_E6              122067 non-null  uint8  \n",
      " 48  CNZTYP_F1              122067 non-null  uint8  \n",
      " 49  CNZTYP_F2              122067 non-null  uint8  \n",
      " 50  CNZTYP_F3              122067 non-null  uint8  \n",
      " 51  CNZTYP_F4              122067 non-null  uint8  \n",
      " 52  CNZTYP_G1              122067 non-null  uint8  \n",
      " 53  CNZTYP_G2              122067 non-null  uint8  \n",
      " 54  CNZTYP_G3              122067 non-null  uint8  \n",
      " 55  CNZTYP_G4              122067 non-null  uint8  \n",
      " 56  CNZTYP_H1              122067 non-null  uint8  \n",
      " 57  CNZTYP_H2              122067 non-null  uint8  \n",
      " 58  CNZTYP_I1              122067 non-null  uint8  \n",
      " 59  CNZTYP_I2              122067 non-null  uint8  \n",
      " 60  CNZTYP_I3              122067 non-null  uint8  \n",
      " 61  CNZTYP_I4              122067 non-null  uint8  \n",
      " 62  MUNICIPALITY_1         122067 non-null  uint8  \n",
      " 63  MUNICIPALITY_2         122067 non-null  uint8  \n",
      " 64  MUNICIPALITY_3         122067 non-null  uint8  \n",
      " 65  MUNICIPALITY_4         122067 non-null  uint8  \n",
      " 66  Target                 122067 non-null  int32  \n",
      "dtypes: float64(7), int32(10), uint8(50)\n",
      "memory usage: 17.9 MB\n"
     ]
    }
   ],
   "source": [
    "X_train.info()"
   ],
   "metadata": {
    "collapsed": false
   }
  },
  {
   "cell_type": "code",
   "execution_count": 162,
   "outputs": [
    {
     "name": "stdout",
     "output_type": "stream",
     "text": [
      "number of outliers: 2057\n",
      "max outerlier value: 9605061\n",
      "min outlier value: -2315725\n",
      "33451     3245003\n",
      "55578     1844175\n",
      "11970     3689269\n",
      "49938     3940824\n",
      "72722     2653433\n",
      "           ...   \n",
      "18613     1960252\n",
      "90424     3200312\n",
      "139898    3288013\n",
      "97905     7199750\n",
      "121759    4703930\n",
      "Name: WEALTH_AVG, Length: 2057, dtype: int32\n"
     ]
    }
   ],
   "source": [
    "outliers= find_outliers_IQR(X_train[\"WEALTH_AVG\"][X_train[\"Target\"]==0]) #bad customers that should be good\n",
    "print(\"number of outliers: \" + str(len(outliers)))\n",
    "print('max outerlier value: ' + str(outliers.max()))\n",
    "print('min outlier value: ' + str(outliers.min()))\n",
    "print(outliers)"
   ],
   "metadata": {
    "collapsed": false
   }
  },
  {
   "cell_type": "code",
   "execution_count": 67,
   "outputs": [
    {
     "name": "stdout",
     "output_type": "stream",
     "text": [
      "number of outliers: 6539\n",
      "max outerlier value: 9860191\n",
      "min outlier value: 4339148\n",
      "25        5003827\n",
      "30        6069692\n",
      "31        6069692\n",
      "32        6759109\n",
      "33        6759109\n",
      "           ...   \n",
      "162922    4981052\n",
      "162990    4339148\n",
      "163006    4482410\n",
      "163018    5063835\n",
      "163040    5791765\n",
      "Name: WEALTH_AVG, Length: 6539, dtype: int32\n"
     ]
    }
   ],
   "source": [
    "outliers = find_outliers_IQR(df[\"WEALTH_AVG\"][df[\"Target\"]==1]) #good customers that should be bad\n",
    "print(\"number of outliers: \" + str(len(outliers)))\n",
    "print('max outerlier value: ' + str(outliers.max()))\n",
    "print('min outlier value: ' + str(outliers.min()))\n",
    "print(outliers)"
   ],
   "metadata": {
    "collapsed": false
   }
  },
  {
   "cell_type": "code",
   "execution_count": 73,
   "outputs": [
    {
     "data": {
      "text/plain": "1156507.053326703"
     },
     "execution_count": 73,
     "metadata": {},
     "output_type": "execute_result"
    }
   ],
   "source": [
    "X_train[\"WEALTH_AVG\"][X_train[\"Target\"]==1].mean()"
   ],
   "metadata": {
    "collapsed": false
   }
  },
  {
   "cell_type": "code",
   "execution_count": 72,
   "outputs": [
    {
     "data": {
      "text/plain": "Series([], Name: WEALTH_AVG, dtype: int32)"
     },
     "execution_count": 72,
     "metadata": {},
     "output_type": "execute_result"
    }
   ],
   "source": [
    "outliers[outliers<214749]"
   ],
   "metadata": {
    "collapsed": false
   }
  },
  {
   "cell_type": "code",
   "execution_count": 163,
   "outputs": [
    {
     "data": {
      "text/plain": "33451     3245003\n55578     1844175\n11970     3689269\n49938     3940824\n72722     2653433\n           ...   \n18613     1960252\n90424     3200312\n139898    3288013\n97905     7199750\n121759    4703930\nName: WEALTH_AVG, Length: 2020, dtype: int32"
     },
     "execution_count": 163,
     "metadata": {},
     "output_type": "execute_result"
    }
   ],
   "source": [
    "outliers_min = outliers[outliers>0]\n",
    "outliers_min"
   ],
   "metadata": {
    "collapsed": false
   }
  },
  {
   "cell_type": "code",
   "execution_count": 165,
   "outputs": [
    {
     "data": {
      "text/plain": "(122067, 67)"
     },
     "execution_count": 165,
     "metadata": {},
     "output_type": "execute_result"
    }
   ],
   "source": [
    "X_train.shape"
   ],
   "metadata": {
    "collapsed": false
   }
  },
  {
   "cell_type": "code",
   "execution_count": 168,
   "outputs": [
    {
     "data": {
      "text/plain": "        HOU_HOLHOMOWNR  OWNSHIP  AREA  ROOMS  BUSINESS_ON_ADRESS  \\\n79091                0        1   236      5                   0   \n85628                0        1   120      5                   0   \n128366               0        0    56      1                   0   \n56280                0        1   159      4                   1   \n149077               0        0    62      2                   0   \n...                ...      ...   ...    ...                 ...   \n72396                0        0    96      3                   0   \n33871                0        0    96      3                   0   \n121996               0        1    97      4                   0   \n137523               0        0    67      3                   0   \n43259                0        1   186      7                   0   \n\n        PER_COU_UNADR  CAR_AVG  EDU_AVG  HOU_INCO_AVG  SOCGRP_AVG  ...  \\\n79091          2.2500     1.07    14.67       1063442    2.204938  ...   \n85628          2.1196     1.55    15.00        925847    2.706468  ...   \n128366         1.2266     0.19    16.67        568765    2.430348  ...   \n56280          1.5000     1.53    14.16        775615    2.883951  ...   \n149077         0.6782     0.34    12.00        265705    3.534826  ...   \n...               ...      ...      ...           ...         ...  ...   \n72396          2.1982     0.56    11.30        406098    3.684939  ...   \n33871          1.5556     0.75    11.45        393734    2.948020  ...   \n121996         1.9676     1.10    14.00        775201    2.558025  ...   \n137523         1.5385     0.56    14.33        370631    2.840796  ...   \n43259          1.5000     1.19    14.67        755090    2.649383  ...   \n\n        CNZTYP_H2  CNZTYP_I1  CNZTYP_I2  CNZTYP_I3  CNZTYP_I4  MUNICIPALITY_1  \\\n79091           0          0          0          0          0               0   \n85628           0          0          0          0          0               0   \n128366          0          0          0          0          0               0   \n56280           0          0          0          0          0               0   \n149077          0          0          0          0          0               0   \n...           ...        ...        ...        ...        ...             ...   \n72396           0          0          0          0          0               0   \n33871           0          0          1          0          0               0   \n121996          0          0          0          0          0               0   \n137523          0          0          0          0          0               0   \n43259           0          0          0          0          0               0   \n\n        MUNICIPALITY_2  MUNICIPALITY_3  MUNICIPALITY_4  Target  \n79091                1               0               0       1  \n85628                1               0               0       1  \n128366               0               1               0       1  \n56280                0               1               0       1  \n149077               1               0               0       1  \n...                ...             ...             ...     ...  \n72396                1               0               0       0  \n33871                1               0               0       1  \n121996               0               0               1       1  \n137523               0               1               0       1  \n43259                0               1               0       1  \n\n[120047 rows x 67 columns]",
      "text/html": "<div>\n<style scoped>\n    .dataframe tbody tr th:only-of-type {\n        vertical-align: middle;\n    }\n\n    .dataframe tbody tr th {\n        vertical-align: top;\n    }\n\n    .dataframe thead th {\n        text-align: right;\n    }\n</style>\n<table border=\"1\" class=\"dataframe\">\n  <thead>\n    <tr style=\"text-align: right;\">\n      <th></th>\n      <th>HOU_HOLHOMOWNR</th>\n      <th>OWNSHIP</th>\n      <th>AREA</th>\n      <th>ROOMS</th>\n      <th>BUSINESS_ON_ADRESS</th>\n      <th>PER_COU_UNADR</th>\n      <th>CAR_AVG</th>\n      <th>EDU_AVG</th>\n      <th>HOU_INCO_AVG</th>\n      <th>SOCGRP_AVG</th>\n      <th>...</th>\n      <th>CNZTYP_H2</th>\n      <th>CNZTYP_I1</th>\n      <th>CNZTYP_I2</th>\n      <th>CNZTYP_I3</th>\n      <th>CNZTYP_I4</th>\n      <th>MUNICIPALITY_1</th>\n      <th>MUNICIPALITY_2</th>\n      <th>MUNICIPALITY_3</th>\n      <th>MUNICIPALITY_4</th>\n      <th>Target</th>\n    </tr>\n  </thead>\n  <tbody>\n    <tr>\n      <th>79091</th>\n      <td>0</td>\n      <td>1</td>\n      <td>236</td>\n      <td>5</td>\n      <td>0</td>\n      <td>2.2500</td>\n      <td>1.07</td>\n      <td>14.67</td>\n      <td>1063442</td>\n      <td>2.204938</td>\n      <td>...</td>\n      <td>0</td>\n      <td>0</td>\n      <td>0</td>\n      <td>0</td>\n      <td>0</td>\n      <td>0</td>\n      <td>1</td>\n      <td>0</td>\n      <td>0</td>\n      <td>1</td>\n    </tr>\n    <tr>\n      <th>85628</th>\n      <td>0</td>\n      <td>1</td>\n      <td>120</td>\n      <td>5</td>\n      <td>0</td>\n      <td>2.1196</td>\n      <td>1.55</td>\n      <td>15.00</td>\n      <td>925847</td>\n      <td>2.706468</td>\n      <td>...</td>\n      <td>0</td>\n      <td>0</td>\n      <td>0</td>\n      <td>0</td>\n      <td>0</td>\n      <td>0</td>\n      <td>1</td>\n      <td>0</td>\n      <td>0</td>\n      <td>1</td>\n    </tr>\n    <tr>\n      <th>128366</th>\n      <td>0</td>\n      <td>0</td>\n      <td>56</td>\n      <td>1</td>\n      <td>0</td>\n      <td>1.2266</td>\n      <td>0.19</td>\n      <td>16.67</td>\n      <td>568765</td>\n      <td>2.430348</td>\n      <td>...</td>\n      <td>0</td>\n      <td>0</td>\n      <td>0</td>\n      <td>0</td>\n      <td>0</td>\n      <td>0</td>\n      <td>0</td>\n      <td>1</td>\n      <td>0</td>\n      <td>1</td>\n    </tr>\n    <tr>\n      <th>56280</th>\n      <td>0</td>\n      <td>1</td>\n      <td>159</td>\n      <td>4</td>\n      <td>1</td>\n      <td>1.5000</td>\n      <td>1.53</td>\n      <td>14.16</td>\n      <td>775615</td>\n      <td>2.883951</td>\n      <td>...</td>\n      <td>0</td>\n      <td>0</td>\n      <td>0</td>\n      <td>0</td>\n      <td>0</td>\n      <td>0</td>\n      <td>0</td>\n      <td>1</td>\n      <td>0</td>\n      <td>1</td>\n    </tr>\n    <tr>\n      <th>149077</th>\n      <td>0</td>\n      <td>0</td>\n      <td>62</td>\n      <td>2</td>\n      <td>0</td>\n      <td>0.6782</td>\n      <td>0.34</td>\n      <td>12.00</td>\n      <td>265705</td>\n      <td>3.534826</td>\n      <td>...</td>\n      <td>0</td>\n      <td>0</td>\n      <td>0</td>\n      <td>0</td>\n      <td>0</td>\n      <td>0</td>\n      <td>1</td>\n      <td>0</td>\n      <td>0</td>\n      <td>1</td>\n    </tr>\n    <tr>\n      <th>...</th>\n      <td>...</td>\n      <td>...</td>\n      <td>...</td>\n      <td>...</td>\n      <td>...</td>\n      <td>...</td>\n      <td>...</td>\n      <td>...</td>\n      <td>...</td>\n      <td>...</td>\n      <td>...</td>\n      <td>...</td>\n      <td>...</td>\n      <td>...</td>\n      <td>...</td>\n      <td>...</td>\n      <td>...</td>\n      <td>...</td>\n      <td>...</td>\n      <td>...</td>\n      <td>...</td>\n    </tr>\n    <tr>\n      <th>72396</th>\n      <td>0</td>\n      <td>0</td>\n      <td>96</td>\n      <td>3</td>\n      <td>0</td>\n      <td>2.1982</td>\n      <td>0.56</td>\n      <td>11.30</td>\n      <td>406098</td>\n      <td>3.684939</td>\n      <td>...</td>\n      <td>0</td>\n      <td>0</td>\n      <td>0</td>\n      <td>0</td>\n      <td>0</td>\n      <td>0</td>\n      <td>1</td>\n      <td>0</td>\n      <td>0</td>\n      <td>0</td>\n    </tr>\n    <tr>\n      <th>33871</th>\n      <td>0</td>\n      <td>0</td>\n      <td>96</td>\n      <td>3</td>\n      <td>0</td>\n      <td>1.5556</td>\n      <td>0.75</td>\n      <td>11.45</td>\n      <td>393734</td>\n      <td>2.948020</td>\n      <td>...</td>\n      <td>0</td>\n      <td>0</td>\n      <td>1</td>\n      <td>0</td>\n      <td>0</td>\n      <td>0</td>\n      <td>1</td>\n      <td>0</td>\n      <td>0</td>\n      <td>1</td>\n    </tr>\n    <tr>\n      <th>121996</th>\n      <td>0</td>\n      <td>1</td>\n      <td>97</td>\n      <td>4</td>\n      <td>0</td>\n      <td>1.9676</td>\n      <td>1.10</td>\n      <td>14.00</td>\n      <td>775201</td>\n      <td>2.558025</td>\n      <td>...</td>\n      <td>0</td>\n      <td>0</td>\n      <td>0</td>\n      <td>0</td>\n      <td>0</td>\n      <td>0</td>\n      <td>0</td>\n      <td>0</td>\n      <td>1</td>\n      <td>1</td>\n    </tr>\n    <tr>\n      <th>137523</th>\n      <td>0</td>\n      <td>0</td>\n      <td>67</td>\n      <td>3</td>\n      <td>0</td>\n      <td>1.5385</td>\n      <td>0.56</td>\n      <td>14.33</td>\n      <td>370631</td>\n      <td>2.840796</td>\n      <td>...</td>\n      <td>0</td>\n      <td>0</td>\n      <td>0</td>\n      <td>0</td>\n      <td>0</td>\n      <td>0</td>\n      <td>0</td>\n      <td>1</td>\n      <td>0</td>\n      <td>1</td>\n    </tr>\n    <tr>\n      <th>43259</th>\n      <td>0</td>\n      <td>1</td>\n      <td>186</td>\n      <td>7</td>\n      <td>0</td>\n      <td>1.5000</td>\n      <td>1.19</td>\n      <td>14.67</td>\n      <td>755090</td>\n      <td>2.649383</td>\n      <td>...</td>\n      <td>0</td>\n      <td>0</td>\n      <td>0</td>\n      <td>0</td>\n      <td>0</td>\n      <td>0</td>\n      <td>0</td>\n      <td>1</td>\n      <td>0</td>\n      <td>1</td>\n    </tr>\n  </tbody>\n</table>\n<p>120047 rows × 67 columns</p>\n</div>"
     },
     "execution_count": 168,
     "metadata": {},
     "output_type": "execute_result"
    }
   ],
   "source": [
    "X_train_1 = X_train_1.drop(index=outliers_min.index, axis=0)\n",
    "X_train_1"
   ],
   "metadata": {
    "collapsed": false
   }
  },
  {
   "cell_type": "code",
   "execution_count": 169,
   "outputs": [
    {
     "name": "stdout",
     "output_type": "stream",
     "text": [
      "(120047,) (120047, 66)\n"
     ]
    }
   ],
   "source": [
    "\n",
    "y_train = X_train_1[\"Target\"]\n",
    "X_train = X_train_1.drop(\"Target\", axis=1)\n",
    "print(y_train.shape, X_train.shape)"
   ],
   "metadata": {
    "collapsed": false
   }
  },
  {
   "cell_type": "code",
   "execution_count": 170,
   "outputs": [],
   "source": [
    "#X_train, X_test, y_train, y_test = train_test_split(X_train.loc[:, ~X_train.columns.isin(['Target'])],\n",
    " #                                                   X_train.loc[:, X_train.columns == 'Target'], shuffle=True, test_size=0.2,\n",
    "  #                                                  random_state=1, stratify=X_train.loc[:, X_train.columns == 'Target'])\n",
    "#print(X_train.shape, X_test.shape, y_train.shape, y_test.shape)\n",
    "X_train.to_pickle('x_train_lvl5.pkl')\n",
    "X_test.to_pickle('x_test_lvl5.pkl')\n",
    "y_train.to_pickle('y_train_lvl5.pkl')\n",
    "y_test.to_pickle('y_test_lvl5.pkl')"
   ],
   "metadata": {
    "collapsed": false
   }
  },
  {
   "cell_type": "code",
   "execution_count": 171,
   "outputs": [
    {
     "name": "stdout",
     "output_type": "stream",
     "text": [
      "(120047, 66) (40690, 66) (120047,) (40690, 1)\n"
     ]
    }
   ],
   "source": [
    "print(X_train.shape, X_test.shape, y_train.shape, y_test.shape)"
   ],
   "metadata": {
    "collapsed": false
   }
  },
  {
   "cell_type": "code",
   "execution_count": 172,
   "outputs": [],
   "source": [
    "X_train.to_csv(r'\\\\geo-file\\geomatic\\Temp\\mao\\Thesis\\Data\\X_train_lvl5.csv', index=False)\n",
    "pd.DataFrame(y_train).to_csv(r'\\\\geo-file\\geomatic\\Temp\\mao\\Thesis\\Data\\y_train_lvl5.csv', index=False)\n",
    "X_test.to_csv(r'\\\\geo-file\\geomatic\\Temp\\mao\\Thesis\\Data\\X_test_lvl5.csv', index=False)\n",
    "pd.DataFrame(y_test).to_csv(r'\\\\geo-file\\geomatic\\Temp\\mao\\Thesis\\Data\\y_test_lvl5.csv', index=False)"
   ],
   "metadata": {
    "collapsed": false
   }
  },
  {
   "cell_type": "markdown",
   "source": [
    "# Level 6 - many variables"
   ],
   "metadata": {
    "collapsed": false
   }
  },
  {
   "cell_type": "code",
   "execution_count": 91,
   "outputs": [
    {
     "name": "stdout",
     "output_type": "stream",
     "text": [
      "[3. 2. 4. 3. 1. 1. 2. 3. 2. 4. 3. 3. 2. 3. 4. 2. 2. 2. 1. 2. 3. 2. 1. 2.\n",
      " 1. 2. 2. 3. 3. 2. 1. 1. 3. 2. 3. 3. 3. 4. 3. 4. 1. 4. 4. 4. 3. 3. 3. 2.\n",
      " 2. 2. 3. 3. 3. 2. 3. 4. 4. 2. 3. 4. 3. 1. 3. 2. 4. 3. 2. 1. 1. 1. 3. 4.\n",
      " 4. 2. 2. 1. 1. 3. 3. 2. 1. 2. 1. 2. 1. 4. 3. 2. 3. 1. 2. 4. 3. 1. 3. 2.\n",
      " 2. 2.]\n"
     ]
    }
   ],
   "source": [
    "df['HOU_HOLHOMOWNR'] = (df['HOU_HOLHOMOWNR'] == True).astype(int)\n",
    "df['BUSINESS_ON_ADRESS'] = (df['BUSINESS_ON_ADRESS'] == True).astype(int)\n",
    "df['Target'] = df.Target.astype(int)\n",
    "df = df.drop(['CNZGRP', 'UNADR_KEY'], axis=1)\n",
    "#df = employment(df)\n",
    "#df = child(df)\n",
    "#df = mari_status(df)\n",
    "df = ownship(df)\n",
    "df = muni(df)"
   ],
   "metadata": {
    "collapsed": false
   }
  },
  {
   "cell_type": "code",
   "execution_count": 92,
   "outputs": [
    {
     "data": {
      "text/plain": "   HOU_HOLHOMOWNR  OWNSHIP  AREA  ROOMS  BUSINESS_ON_ADRESS  PER_COU_UNADR  \\\n0               0        0    59      2                   0         1.4583   \n1               0        0    59      2                   0         2.2157   \n2               0        0    68      3                   1         2.2157   \n3               0        0    31      1                   1         2.2157   \n4               0        0    79      4                   0         2.2157   \n\n   HOU_LIFEPHASE_V2_DIS_UNADR_YOUNG  \\\n0                          0.000000   \n1                          0.000000   \n2                          0.002475   \n3                          0.012285   \n4                          0.019851   \n\n   HOU_LIFEPHASE_V2_DIS_UNADR_STARTERS_SINGLE  \\\n0                                    0.016114   \n1                                    0.010015   \n2                                    0.012437   \n3                                    0.041321   \n4                                    0.012505   \n\n   HOU_LIFEPHASE_V2_DIS_UNADR_STARTERS_COUPLE  \\\n0                                    0.010396   \n1                                    0.004871   \n2                                    0.017193   \n3                                    0.020096   \n4                                    0.022724   \n\n   HOU_LIFEPHASE_V2_DIS_UNADR_SETTLED_SINGLE  ...  MUNICIPALITY_1  \\\n0                                   0.301552  ...               0   \n1                                   0.322162  ...               0   \n2                                   0.231332  ...               0   \n3                                   0.494195  ...               0   \n4                                   0.168814  ...               0   \n\n   MUNICIPALITY_2  MUNICIPALITY_3  MUNICIPALITY_4  HOU_HABITATION_CODE_CITY  \\\n0               0               1               0                         1   \n1               0               1               0                         1   \n2               0               1               0                         1   \n3               0               1               0                         1   \n4               0               1               0                         1   \n\n   HOU_HABITATION_CODE_COUNTRY  HOU_HABITATION_CODE_LARGETOWN  \\\n0                            0                              0   \n1                            0                              0   \n2                            0                              0   \n3                            0                              0   \n4                            0                              0   \n\n   HOU_HABITATION_CODE_SMALLTOWN  HOU_HABITATION_CODE_SUBURB  \\\n0                              0                           0   \n1                              0                           0   \n2                              0                           0   \n3                              0                           0   \n4                              0                           0   \n\n   HOU_HABITATION_CODE_VILLAGE  \n0                            0  \n1                            0  \n2                            0  \n3                            0  \n4                            0  \n\n[5 rows x 153 columns]",
      "text/html": "<div>\n<style scoped>\n    .dataframe tbody tr th:only-of-type {\n        vertical-align: middle;\n    }\n\n    .dataframe tbody tr th {\n        vertical-align: top;\n    }\n\n    .dataframe thead th {\n        text-align: right;\n    }\n</style>\n<table border=\"1\" class=\"dataframe\">\n  <thead>\n    <tr style=\"text-align: right;\">\n      <th></th>\n      <th>HOU_HOLHOMOWNR</th>\n      <th>OWNSHIP</th>\n      <th>AREA</th>\n      <th>ROOMS</th>\n      <th>BUSINESS_ON_ADRESS</th>\n      <th>PER_COU_UNADR</th>\n      <th>HOU_LIFEPHASE_V2_DIS_UNADR_YOUNG</th>\n      <th>HOU_LIFEPHASE_V2_DIS_UNADR_STARTERS_SINGLE</th>\n      <th>HOU_LIFEPHASE_V2_DIS_UNADR_STARTERS_COUPLE</th>\n      <th>HOU_LIFEPHASE_V2_DIS_UNADR_SETTLED_SINGLE</th>\n      <th>...</th>\n      <th>MUNICIPALITY_1</th>\n      <th>MUNICIPALITY_2</th>\n      <th>MUNICIPALITY_3</th>\n      <th>MUNICIPALITY_4</th>\n      <th>HOU_HABITATION_CODE_CITY</th>\n      <th>HOU_HABITATION_CODE_COUNTRY</th>\n      <th>HOU_HABITATION_CODE_LARGETOWN</th>\n      <th>HOU_HABITATION_CODE_SMALLTOWN</th>\n      <th>HOU_HABITATION_CODE_SUBURB</th>\n      <th>HOU_HABITATION_CODE_VILLAGE</th>\n    </tr>\n  </thead>\n  <tbody>\n    <tr>\n      <th>0</th>\n      <td>0</td>\n      <td>0</td>\n      <td>59</td>\n      <td>2</td>\n      <td>0</td>\n      <td>1.4583</td>\n      <td>0.000000</td>\n      <td>0.016114</td>\n      <td>0.010396</td>\n      <td>0.301552</td>\n      <td>...</td>\n      <td>0</td>\n      <td>0</td>\n      <td>1</td>\n      <td>0</td>\n      <td>1</td>\n      <td>0</td>\n      <td>0</td>\n      <td>0</td>\n      <td>0</td>\n      <td>0</td>\n    </tr>\n    <tr>\n      <th>1</th>\n      <td>0</td>\n      <td>0</td>\n      <td>59</td>\n      <td>2</td>\n      <td>0</td>\n      <td>2.2157</td>\n      <td>0.000000</td>\n      <td>0.010015</td>\n      <td>0.004871</td>\n      <td>0.322162</td>\n      <td>...</td>\n      <td>0</td>\n      <td>0</td>\n      <td>1</td>\n      <td>0</td>\n      <td>1</td>\n      <td>0</td>\n      <td>0</td>\n      <td>0</td>\n      <td>0</td>\n      <td>0</td>\n    </tr>\n    <tr>\n      <th>2</th>\n      <td>0</td>\n      <td>0</td>\n      <td>68</td>\n      <td>3</td>\n      <td>1</td>\n      <td>2.2157</td>\n      <td>0.002475</td>\n      <td>0.012437</td>\n      <td>0.017193</td>\n      <td>0.231332</td>\n      <td>...</td>\n      <td>0</td>\n      <td>0</td>\n      <td>1</td>\n      <td>0</td>\n      <td>1</td>\n      <td>0</td>\n      <td>0</td>\n      <td>0</td>\n      <td>0</td>\n      <td>0</td>\n    </tr>\n    <tr>\n      <th>3</th>\n      <td>0</td>\n      <td>0</td>\n      <td>31</td>\n      <td>1</td>\n      <td>1</td>\n      <td>2.2157</td>\n      <td>0.012285</td>\n      <td>0.041321</td>\n      <td>0.020096</td>\n      <td>0.494195</td>\n      <td>...</td>\n      <td>0</td>\n      <td>0</td>\n      <td>1</td>\n      <td>0</td>\n      <td>1</td>\n      <td>0</td>\n      <td>0</td>\n      <td>0</td>\n      <td>0</td>\n      <td>0</td>\n    </tr>\n    <tr>\n      <th>4</th>\n      <td>0</td>\n      <td>0</td>\n      <td>79</td>\n      <td>4</td>\n      <td>0</td>\n      <td>2.2157</td>\n      <td>0.019851</td>\n      <td>0.012505</td>\n      <td>0.022724</td>\n      <td>0.168814</td>\n      <td>...</td>\n      <td>0</td>\n      <td>0</td>\n      <td>1</td>\n      <td>0</td>\n      <td>1</td>\n      <td>0</td>\n      <td>0</td>\n      <td>0</td>\n      <td>0</td>\n      <td>0</td>\n    </tr>\n  </tbody>\n</table>\n<p>5 rows × 153 columns</p>\n</div>"
     },
     "execution_count": 92,
     "metadata": {},
     "output_type": "execute_result"
    }
   ],
   "source": [
    "df = df.loc[~((df['ROOMS'] > 9) & (df['USAGE'] != 'Farmhouse') & (df['USAGE'] != 'Institution') & (\n",
    "            df['BUSINESS_ON_ADRESS'] == False))]\n",
    "df = pd.get_dummies(df, columns=['USAGE', 'CNZTYP', 'MUNICIPALITY', 'HOU_HABITATION_CODE'])\n",
    "df['AREA'] = df.AREA.astype(int)\n",
    "df['ROOMS'] = df.ROOMS.astype(int)\n",
    "#df['HOU_INCO_AVG'] = df.HOU_INCO_AVG.astype(int)\n",
    "#df['WEALTH_AVG'] = df.WEALTH_AVG.astype(int)\n",
    "#df['EMPL_STATUS'] = df.EMPL_STATUS.astype(int)\n",
    "#df['MARI_STATUS'] = df.MARI_STATUS.astype(int)\n",
    "df['OWNSHIP'] = df.OWNSHIP.astype(int)\n",
    "#df['PER_INCO_AVG2'] = df.OWNSHIP.astype(int)\n",
    "df['HOU_HOLHOMOWNR'] = (df['HOU_HOLHOMOWNR'] == True).astype(int)\n",
    "df['BUSINESS_ON_ADRESS'] = (df['BUSINESS_ON_ADRESS'] == True).astype(int)\n",
    "df['Target'] = df.Target.astype(int)\n",
    "df.head()"
   ],
   "metadata": {
    "collapsed": false
   }
  },
  {
   "cell_type": "code",
   "execution_count": 99,
   "outputs": [
    {
     "data": {
      "text/plain": "       HOU_HOLHOMOWNR        OWNSHIP           AREA          ROOMS  \\\ncount   162757.000000  162757.000000  162757.000000  162757.000000   \nmean         0.052649       0.579686     111.777091       3.890819   \nstd          0.223333       0.493611      52.322117       4.600125   \nmin          0.000000       0.000000       0.000000       0.000000   \n25%          0.000000       0.000000      79.000000       3.000000   \n50%          0.000000       1.000000     100.000000       4.000000   \n75%          0.000000       1.000000     136.000000       5.000000   \nmax          1.000000       1.000000    2603.000000     999.000000   \n\n       BUSINESS_ON_ADRESS  PER_COU_UNADR  HOU_LIFEPHASE_V2_DIS_UNADR_YOUNG  \\\ncount       162757.000000  162757.000000                     162757.000000   \nmean             0.144455       2.112972                          0.015586   \nstd              0.351551       0.916173                          0.033739   \nmin              0.000000       0.017200                          0.000000   \n25%              0.000000       1.613100                          0.000000   \n50%              0.000000       2.000000                          0.005000   \n75%              0.000000       2.500000                          0.017241   \nmax              1.000000     102.000000                          0.778824   \n\n       HOU_LIFEPHASE_V2_DIS_UNADR_STARTERS_SINGLE  \\\ncount                               162757.000000   \nmean                                     0.025900   \nstd                                      0.055056   \nmin                                      0.000000   \n25%                                      0.002785   \n50%                                      0.007885   \n75%                                      0.021723   \nmax                                      0.531560   \n\n       HOU_LIFEPHASE_V2_DIS_UNADR_STARTERS_COUPLE  \\\ncount                               162757.000000   \nmean                                     0.023870   \nstd                                      0.036295   \nmin                                      0.000000   \n25%                                      0.004847   \n50%                                      0.011380   \n75%                                      0.026573   \nmax                                      0.394269   \n\n       HOU_LIFEPHASE_V2_DIS_UNADR_SETTLED_SINGLE  ...  MUNICIPALITY_1  \\\ncount                              162757.000000  ...   162757.000000   \nmean                                    0.208642  ...        0.131097   \nstd                                     0.151987  ...        0.337508   \nmin                                     0.000000  ...        0.000000   \n25%                                     0.072313  ...        0.000000   \n50%                                     0.189216  ...        0.000000   \n75%                                     0.318387  ...        0.000000   \nmax                                     0.672860  ...        1.000000   \n\n       MUNICIPALITY_2  MUNICIPALITY_3  MUNICIPALITY_4  \\\ncount   162757.000000   162757.000000   162757.000000   \nmean         0.325977        0.422919        0.120007   \nstd          0.468740        0.494024        0.324971   \nmin          0.000000        0.000000        0.000000   \n25%          0.000000        0.000000        0.000000   \n50%          0.000000        0.000000        0.000000   \n75%          1.000000        1.000000        0.000000   \nmax          1.000000        1.000000        1.000000   \n\n       HOU_HABITATION_CODE_CITY  HOU_HABITATION_CODE_COUNTRY  \\\ncount             162757.000000                162757.000000   \nmean                   0.136424                     0.101575   \nstd                    0.343240                     0.302089   \nmin                    0.000000                     0.000000   \n25%                    0.000000                     0.000000   \n50%                    0.000000                     0.000000   \n75%                    0.000000                     0.000000   \nmax                    1.000000                     1.000000   \n\n       HOU_HABITATION_CODE_LARGETOWN  HOU_HABITATION_CODE_SMALLTOWN  \\\ncount                  162757.000000                  162757.000000   \nmean                        0.313885                       0.141677   \nstd                         0.464072                       0.348720   \nmin                         0.000000                       0.000000   \n25%                         0.000000                       0.000000   \n50%                         0.000000                       0.000000   \n75%                         1.000000                       0.000000   \nmax                         1.000000                       1.000000   \n\n       HOU_HABITATION_CODE_SUBURB  HOU_HABITATION_CODE_VILLAGE  \ncount               162757.000000                162757.000000  \nmean                     0.196618                     0.109820  \nstd                      0.397442                     0.312666  \nmin                      0.000000                     0.000000  \n25%                      0.000000                     0.000000  \n50%                      0.000000                     0.000000  \n75%                      0.000000                     0.000000  \nmax                      1.000000                     1.000000  \n\n[8 rows x 153 columns]",
      "text/html": "<div>\n<style scoped>\n    .dataframe tbody tr th:only-of-type {\n        vertical-align: middle;\n    }\n\n    .dataframe tbody tr th {\n        vertical-align: top;\n    }\n\n    .dataframe thead th {\n        text-align: right;\n    }\n</style>\n<table border=\"1\" class=\"dataframe\">\n  <thead>\n    <tr style=\"text-align: right;\">\n      <th></th>\n      <th>HOU_HOLHOMOWNR</th>\n      <th>OWNSHIP</th>\n      <th>AREA</th>\n      <th>ROOMS</th>\n      <th>BUSINESS_ON_ADRESS</th>\n      <th>PER_COU_UNADR</th>\n      <th>HOU_LIFEPHASE_V2_DIS_UNADR_YOUNG</th>\n      <th>HOU_LIFEPHASE_V2_DIS_UNADR_STARTERS_SINGLE</th>\n      <th>HOU_LIFEPHASE_V2_DIS_UNADR_STARTERS_COUPLE</th>\n      <th>HOU_LIFEPHASE_V2_DIS_UNADR_SETTLED_SINGLE</th>\n      <th>...</th>\n      <th>MUNICIPALITY_1</th>\n      <th>MUNICIPALITY_2</th>\n      <th>MUNICIPALITY_3</th>\n      <th>MUNICIPALITY_4</th>\n      <th>HOU_HABITATION_CODE_CITY</th>\n      <th>HOU_HABITATION_CODE_COUNTRY</th>\n      <th>HOU_HABITATION_CODE_LARGETOWN</th>\n      <th>HOU_HABITATION_CODE_SMALLTOWN</th>\n      <th>HOU_HABITATION_CODE_SUBURB</th>\n      <th>HOU_HABITATION_CODE_VILLAGE</th>\n    </tr>\n  </thead>\n  <tbody>\n    <tr>\n      <th>count</th>\n      <td>162757.000000</td>\n      <td>162757.000000</td>\n      <td>162757.000000</td>\n      <td>162757.000000</td>\n      <td>162757.000000</td>\n      <td>162757.000000</td>\n      <td>162757.000000</td>\n      <td>162757.000000</td>\n      <td>162757.000000</td>\n      <td>162757.000000</td>\n      <td>...</td>\n      <td>162757.000000</td>\n      <td>162757.000000</td>\n      <td>162757.000000</td>\n      <td>162757.000000</td>\n      <td>162757.000000</td>\n      <td>162757.000000</td>\n      <td>162757.000000</td>\n      <td>162757.000000</td>\n      <td>162757.000000</td>\n      <td>162757.000000</td>\n    </tr>\n    <tr>\n      <th>mean</th>\n      <td>0.052649</td>\n      <td>0.579686</td>\n      <td>111.777091</td>\n      <td>3.890819</td>\n      <td>0.144455</td>\n      <td>2.112972</td>\n      <td>0.015586</td>\n      <td>0.025900</td>\n      <td>0.023870</td>\n      <td>0.208642</td>\n      <td>...</td>\n      <td>0.131097</td>\n      <td>0.325977</td>\n      <td>0.422919</td>\n      <td>0.120007</td>\n      <td>0.136424</td>\n      <td>0.101575</td>\n      <td>0.313885</td>\n      <td>0.141677</td>\n      <td>0.196618</td>\n      <td>0.109820</td>\n    </tr>\n    <tr>\n      <th>std</th>\n      <td>0.223333</td>\n      <td>0.493611</td>\n      <td>52.322117</td>\n      <td>4.600125</td>\n      <td>0.351551</td>\n      <td>0.916173</td>\n      <td>0.033739</td>\n      <td>0.055056</td>\n      <td>0.036295</td>\n      <td>0.151987</td>\n      <td>...</td>\n      <td>0.337508</td>\n      <td>0.468740</td>\n      <td>0.494024</td>\n      <td>0.324971</td>\n      <td>0.343240</td>\n      <td>0.302089</td>\n      <td>0.464072</td>\n      <td>0.348720</td>\n      <td>0.397442</td>\n      <td>0.312666</td>\n    </tr>\n    <tr>\n      <th>min</th>\n      <td>0.000000</td>\n      <td>0.000000</td>\n      <td>0.000000</td>\n      <td>0.000000</td>\n      <td>0.000000</td>\n      <td>0.017200</td>\n      <td>0.000000</td>\n      <td>0.000000</td>\n      <td>0.000000</td>\n      <td>0.000000</td>\n      <td>...</td>\n      <td>0.000000</td>\n      <td>0.000000</td>\n      <td>0.000000</td>\n      <td>0.000000</td>\n      <td>0.000000</td>\n      <td>0.000000</td>\n      <td>0.000000</td>\n      <td>0.000000</td>\n      <td>0.000000</td>\n      <td>0.000000</td>\n    </tr>\n    <tr>\n      <th>25%</th>\n      <td>0.000000</td>\n      <td>0.000000</td>\n      <td>79.000000</td>\n      <td>3.000000</td>\n      <td>0.000000</td>\n      <td>1.613100</td>\n      <td>0.000000</td>\n      <td>0.002785</td>\n      <td>0.004847</td>\n      <td>0.072313</td>\n      <td>...</td>\n      <td>0.000000</td>\n      <td>0.000000</td>\n      <td>0.000000</td>\n      <td>0.000000</td>\n      <td>0.000000</td>\n      <td>0.000000</td>\n      <td>0.000000</td>\n      <td>0.000000</td>\n      <td>0.000000</td>\n      <td>0.000000</td>\n    </tr>\n    <tr>\n      <th>50%</th>\n      <td>0.000000</td>\n      <td>1.000000</td>\n      <td>100.000000</td>\n      <td>4.000000</td>\n      <td>0.000000</td>\n      <td>2.000000</td>\n      <td>0.005000</td>\n      <td>0.007885</td>\n      <td>0.011380</td>\n      <td>0.189216</td>\n      <td>...</td>\n      <td>0.000000</td>\n      <td>0.000000</td>\n      <td>0.000000</td>\n      <td>0.000000</td>\n      <td>0.000000</td>\n      <td>0.000000</td>\n      <td>0.000000</td>\n      <td>0.000000</td>\n      <td>0.000000</td>\n      <td>0.000000</td>\n    </tr>\n    <tr>\n      <th>75%</th>\n      <td>0.000000</td>\n      <td>1.000000</td>\n      <td>136.000000</td>\n      <td>5.000000</td>\n      <td>0.000000</td>\n      <td>2.500000</td>\n      <td>0.017241</td>\n      <td>0.021723</td>\n      <td>0.026573</td>\n      <td>0.318387</td>\n      <td>...</td>\n      <td>0.000000</td>\n      <td>1.000000</td>\n      <td>1.000000</td>\n      <td>0.000000</td>\n      <td>0.000000</td>\n      <td>0.000000</td>\n      <td>1.000000</td>\n      <td>0.000000</td>\n      <td>0.000000</td>\n      <td>0.000000</td>\n    </tr>\n    <tr>\n      <th>max</th>\n      <td>1.000000</td>\n      <td>1.000000</td>\n      <td>2603.000000</td>\n      <td>999.000000</td>\n      <td>1.000000</td>\n      <td>102.000000</td>\n      <td>0.778824</td>\n      <td>0.531560</td>\n      <td>0.394269</td>\n      <td>0.672860</td>\n      <td>...</td>\n      <td>1.000000</td>\n      <td>1.000000</td>\n      <td>1.000000</td>\n      <td>1.000000</td>\n      <td>1.000000</td>\n      <td>1.000000</td>\n      <td>1.000000</td>\n      <td>1.000000</td>\n      <td>1.000000</td>\n      <td>1.000000</td>\n    </tr>\n  </tbody>\n</table>\n<p>8 rows × 153 columns</p>\n</div>"
     },
     "execution_count": 99,
     "metadata": {},
     "output_type": "execute_result"
    }
   ],
   "source": [
    "df.describe()"
   ],
   "metadata": {
    "collapsed": false
   }
  },
  {
   "cell_type": "code",
   "execution_count": 101,
   "outputs": [
    {
     "name": "stdout",
     "output_type": "stream",
     "text": [
      "(122067, 152) (40690, 152) (122067, 1) (40690, 1)\n"
     ]
    }
   ],
   "source": [
    "X_train, X_test, y_train, y_test = train_test_split(df.loc[:, ~df.columns.isin(['Target'])],\n",
    "                                                    df.loc[:, df.columns == 'Target'], shuffle=True, test_size=0.25,\n",
    "                                                    random_state=1, stratify=df.loc[:, df.columns == 'Target'])\n",
    "print(X_train.shape, X_test.shape, y_train.shape, y_test.shape)\n",
    "X_train.to_pickle('x_train_lvl6.pkl')\n",
    "X_test.to_pickle('x_test_lvl6.pkl')\n",
    "y_train.to_pickle('y_train_lvl6.pkl')\n",
    "y_test.to_pickle('y_test_lvl6.pkl')"
   ],
   "metadata": {
    "collapsed": false
   }
  },
  {
   "cell_type": "markdown",
   "source": [
    "Highest and lowest wealth clusters within Copenhagen"
   ],
   "metadata": {
    "collapsed": false
   }
  },
  {
   "cell_type": "code",
   "execution_count": 23,
   "outputs": [],
   "source": [
    "df['HOU_HOLHOMOWNR'] = (df['HOU_HOLHOMOWNR'] == True).astype(int)\n",
    "df['BUSINESS_ON_ADRESS'] = (df['BUSINESS_ON_ADRESS'] == True).astype(int)\n",
    "df['Target'] = df.Target.astype(int)\n",
    "df = employment(df)\n",
    "df = child(df)\n",
    "df = mari_status(df)\n",
    "df = ownship(df)\n",
    "#df = muni(df)\n"
   ],
   "metadata": {
    "collapsed": false
   }
  },
  {
   "cell_type": "code",
   "execution_count": 17,
   "outputs": [
    {
     "data": {
      "text/plain": "   UNADR_KEY  HOU_HOLHOMOWNR  MUNICIPALITY CNZTYP OWNSHIP      USAGE  AREA  \\\n0   22318638               0           101     F1       1  Apartment   173   \n1   22354765               1           101     F2       1  Apartment   218   \n2   22406775               0           101     F1       1  Apartment   148   \n3   22435422               1           101     F1       1  Apartment   175   \n4   22500012               1           101     F1       1  Apartment   287   \n\n   ROOMS  BUSINESS_ON_ADRESS  CAR_AVG  EDU_AVG  HOU_INCO_AVG  SOCGRP_AVG  \\\n0      5                   0     0.38    18.00       2789763    1.217770   \n1      6                   1     0.78    17.33       4128136    1.217770   \n2      4                   1     0.77    17.67       1216560    2.000000   \n3      4                   1     0.99    15.61       2359663    1.651741   \n4      9                   0     0.96    17.00       3155869    1.217770   \n\n   WEALTH_AVG  AGE_OLDST_AVG  CHL_AVG  Target  UNADR_GMC_WEALTH_V2_2201_KEY  \\\n0     7167068          62.00     0.17       0                     101000001   \n1     8277951          56.67     1.67       0                     101000001   \n2     4568241          61.00     0.17       1                     101000001   \n3     7758345          71.37     0.17       0                     101000001   \n4     9246625          66.37     0.17       0                     101000001   \n\n  EMPL_STATUS MARI_STATUS  \n0         1.0         0.0  \n1         1.0         1.0  \n2         1.0         1.0  \n3         0.0         0.0  \n4         1.0         0.0  ",
      "text/html": "<div>\n<style scoped>\n    .dataframe tbody tr th:only-of-type {\n        vertical-align: middle;\n    }\n\n    .dataframe tbody tr th {\n        vertical-align: top;\n    }\n\n    .dataframe thead th {\n        text-align: right;\n    }\n</style>\n<table border=\"1\" class=\"dataframe\">\n  <thead>\n    <tr style=\"text-align: right;\">\n      <th></th>\n      <th>UNADR_KEY</th>\n      <th>HOU_HOLHOMOWNR</th>\n      <th>MUNICIPALITY</th>\n      <th>CNZTYP</th>\n      <th>OWNSHIP</th>\n      <th>USAGE</th>\n      <th>AREA</th>\n      <th>ROOMS</th>\n      <th>BUSINESS_ON_ADRESS</th>\n      <th>CAR_AVG</th>\n      <th>EDU_AVG</th>\n      <th>HOU_INCO_AVG</th>\n      <th>SOCGRP_AVG</th>\n      <th>WEALTH_AVG</th>\n      <th>AGE_OLDST_AVG</th>\n      <th>CHL_AVG</th>\n      <th>Target</th>\n      <th>UNADR_GMC_WEALTH_V2_2201_KEY</th>\n      <th>EMPL_STATUS</th>\n      <th>MARI_STATUS</th>\n    </tr>\n  </thead>\n  <tbody>\n    <tr>\n      <th>0</th>\n      <td>22318638</td>\n      <td>0</td>\n      <td>101</td>\n      <td>F1</td>\n      <td>1</td>\n      <td>Apartment</td>\n      <td>173</td>\n      <td>5</td>\n      <td>0</td>\n      <td>0.38</td>\n      <td>18.00</td>\n      <td>2789763</td>\n      <td>1.217770</td>\n      <td>7167068</td>\n      <td>62.00</td>\n      <td>0.17</td>\n      <td>0</td>\n      <td>101000001</td>\n      <td>1.0</td>\n      <td>0.0</td>\n    </tr>\n    <tr>\n      <th>1</th>\n      <td>22354765</td>\n      <td>1</td>\n      <td>101</td>\n      <td>F2</td>\n      <td>1</td>\n      <td>Apartment</td>\n      <td>218</td>\n      <td>6</td>\n      <td>1</td>\n      <td>0.78</td>\n      <td>17.33</td>\n      <td>4128136</td>\n      <td>1.217770</td>\n      <td>8277951</td>\n      <td>56.67</td>\n      <td>1.67</td>\n      <td>0</td>\n      <td>101000001</td>\n      <td>1.0</td>\n      <td>1.0</td>\n    </tr>\n    <tr>\n      <th>2</th>\n      <td>22406775</td>\n      <td>0</td>\n      <td>101</td>\n      <td>F1</td>\n      <td>1</td>\n      <td>Apartment</td>\n      <td>148</td>\n      <td>4</td>\n      <td>1</td>\n      <td>0.77</td>\n      <td>17.67</td>\n      <td>1216560</td>\n      <td>2.000000</td>\n      <td>4568241</td>\n      <td>61.00</td>\n      <td>0.17</td>\n      <td>1</td>\n      <td>101000001</td>\n      <td>1.0</td>\n      <td>1.0</td>\n    </tr>\n    <tr>\n      <th>3</th>\n      <td>22435422</td>\n      <td>1</td>\n      <td>101</td>\n      <td>F1</td>\n      <td>1</td>\n      <td>Apartment</td>\n      <td>175</td>\n      <td>4</td>\n      <td>1</td>\n      <td>0.99</td>\n      <td>15.61</td>\n      <td>2359663</td>\n      <td>1.651741</td>\n      <td>7758345</td>\n      <td>71.37</td>\n      <td>0.17</td>\n      <td>0</td>\n      <td>101000001</td>\n      <td>0.0</td>\n      <td>0.0</td>\n    </tr>\n    <tr>\n      <th>4</th>\n      <td>22500012</td>\n      <td>1</td>\n      <td>101</td>\n      <td>F1</td>\n      <td>1</td>\n      <td>Apartment</td>\n      <td>287</td>\n      <td>9</td>\n      <td>0</td>\n      <td>0.96</td>\n      <td>17.00</td>\n      <td>3155869</td>\n      <td>1.217770</td>\n      <td>9246625</td>\n      <td>66.37</td>\n      <td>0.17</td>\n      <td>0</td>\n      <td>101000001</td>\n      <td>1.0</td>\n      <td>0.0</td>\n    </tr>\n  </tbody>\n</table>\n</div>"
     },
     "execution_count": 17,
     "metadata": {},
     "output_type": "execute_result"
    }
   ],
   "source": [
    "df.head()"
   ],
   "metadata": {
    "collapsed": false
   }
  },
  {
   "cell_type": "code",
   "execution_count": 24,
   "outputs": [
    {
     "data": {
      "text/plain": "   UNADR_KEY  HOU_HOLHOMOWNR  MUNICIPALITY CNZTYP  OWNSHIP            USAGE  \\\n0   22310021               0           101     D3        1  Attached houses   \n1   22373364               0           101     F1        1        Apartment   \n2   22373366               1           101     F1        1        Apartment   \n3   22414614               0           101     F1        1        Apartment   \n4   22470624               0           101     D1        1            Villa   \n\n   AREA  ROOMS  BUSINESS_ON_ADRESS  CAR_AVG  EDU_AVG  HOU_INCO_AVG  \\\n0   138      4                   0     0.99    17.64        823587   \n1   316      8                   0     1.23    17.33       3155869   \n2   306      8                   0     1.23    17.33       3155869   \n3   227      4                   1     0.75    17.67       2789763   \n4   224      8                   1     1.23    17.67       4128136   \n\n   SOCGRP_AVG  WEALTH_AVG  AGE_OLDST_AVG  CHL_AVG  Target  \\\n0    1.626866     9246625          74.06     0.00       0   \n1    1.217770     9246625          62.84     0.17       1   \n2    1.217770     9246625          62.84     0.17       0   \n3    1.217770     9246625          56.33     0.33       0   \n4    1.217770     9246625          50.67     1.83       1   \n\n   UNADR_GMC_WEALTH_V2_2101_KEY  EMPL_STATUS  MARI_STATUS  \n0                     101000001            1            1  \n1                     101000001            1            1  \n2                     101000001            1            1  \n3                     101000001            1            0  \n4                     101000001            1            0  ",
      "text/html": "<div>\n<style scoped>\n    .dataframe tbody tr th:only-of-type {\n        vertical-align: middle;\n    }\n\n    .dataframe tbody tr th {\n        vertical-align: top;\n    }\n\n    .dataframe thead th {\n        text-align: right;\n    }\n</style>\n<table border=\"1\" class=\"dataframe\">\n  <thead>\n    <tr style=\"text-align: right;\">\n      <th></th>\n      <th>UNADR_KEY</th>\n      <th>HOU_HOLHOMOWNR</th>\n      <th>MUNICIPALITY</th>\n      <th>CNZTYP</th>\n      <th>OWNSHIP</th>\n      <th>USAGE</th>\n      <th>AREA</th>\n      <th>ROOMS</th>\n      <th>BUSINESS_ON_ADRESS</th>\n      <th>CAR_AVG</th>\n      <th>EDU_AVG</th>\n      <th>HOU_INCO_AVG</th>\n      <th>SOCGRP_AVG</th>\n      <th>WEALTH_AVG</th>\n      <th>AGE_OLDST_AVG</th>\n      <th>CHL_AVG</th>\n      <th>Target</th>\n      <th>UNADR_GMC_WEALTH_V2_2101_KEY</th>\n      <th>EMPL_STATUS</th>\n      <th>MARI_STATUS</th>\n    </tr>\n  </thead>\n  <tbody>\n    <tr>\n      <th>0</th>\n      <td>22310021</td>\n      <td>0</td>\n      <td>101</td>\n      <td>D3</td>\n      <td>1</td>\n      <td>Attached houses</td>\n      <td>138</td>\n      <td>4</td>\n      <td>0</td>\n      <td>0.99</td>\n      <td>17.64</td>\n      <td>823587</td>\n      <td>1.626866</td>\n      <td>9246625</td>\n      <td>74.06</td>\n      <td>0.00</td>\n      <td>0</td>\n      <td>101000001</td>\n      <td>1</td>\n      <td>1</td>\n    </tr>\n    <tr>\n      <th>1</th>\n      <td>22373364</td>\n      <td>0</td>\n      <td>101</td>\n      <td>F1</td>\n      <td>1</td>\n      <td>Apartment</td>\n      <td>316</td>\n      <td>8</td>\n      <td>0</td>\n      <td>1.23</td>\n      <td>17.33</td>\n      <td>3155869</td>\n      <td>1.217770</td>\n      <td>9246625</td>\n      <td>62.84</td>\n      <td>0.17</td>\n      <td>1</td>\n      <td>101000001</td>\n      <td>1</td>\n      <td>1</td>\n    </tr>\n    <tr>\n      <th>2</th>\n      <td>22373366</td>\n      <td>1</td>\n      <td>101</td>\n      <td>F1</td>\n      <td>1</td>\n      <td>Apartment</td>\n      <td>306</td>\n      <td>8</td>\n      <td>0</td>\n      <td>1.23</td>\n      <td>17.33</td>\n      <td>3155869</td>\n      <td>1.217770</td>\n      <td>9246625</td>\n      <td>62.84</td>\n      <td>0.17</td>\n      <td>0</td>\n      <td>101000001</td>\n      <td>1</td>\n      <td>1</td>\n    </tr>\n    <tr>\n      <th>3</th>\n      <td>22414614</td>\n      <td>0</td>\n      <td>101</td>\n      <td>F1</td>\n      <td>1</td>\n      <td>Apartment</td>\n      <td>227</td>\n      <td>4</td>\n      <td>1</td>\n      <td>0.75</td>\n      <td>17.67</td>\n      <td>2789763</td>\n      <td>1.217770</td>\n      <td>9246625</td>\n      <td>56.33</td>\n      <td>0.33</td>\n      <td>0</td>\n      <td>101000001</td>\n      <td>1</td>\n      <td>0</td>\n    </tr>\n    <tr>\n      <th>4</th>\n      <td>22470624</td>\n      <td>0</td>\n      <td>101</td>\n      <td>D1</td>\n      <td>1</td>\n      <td>Villa</td>\n      <td>224</td>\n      <td>8</td>\n      <td>1</td>\n      <td>1.23</td>\n      <td>17.67</td>\n      <td>4128136</td>\n      <td>1.217770</td>\n      <td>9246625</td>\n      <td>50.67</td>\n      <td>1.83</td>\n      <td>1</td>\n      <td>101000001</td>\n      <td>1</td>\n      <td>0</td>\n    </tr>\n  </tbody>\n</table>\n</div>"
     },
     "execution_count": 24,
     "metadata": {},
     "output_type": "execute_result"
    }
   ],
   "source": [
    "df['AREA'] = df.AREA.astype(int)\n",
    "df['ROOMS'] = df.ROOMS.astype(int)\n",
    "df['HOU_INCO_AVG'] = df.HOU_INCO_AVG.astype(int)\n",
    "df['WEALTH_AVG'] = df.WEALTH_AVG.astype(int)\n",
    "df['EMPL_STATUS'] = df.EMPL_STATUS.astype(int)\n",
    "df['MARI_STATUS'] = df.MARI_STATUS.astype(int)\n",
    "df['OWNSHIP'] = df.OWNSHIP.astype(int)\n",
    "df['HOU_HOLHOMOWNR'] = (df['HOU_HOLHOMOWNR'] == True).astype(int)\n",
    "df['BUSINESS_ON_ADRESS'] = (df['BUSINESS_ON_ADRESS'] == True).astype(int)\n",
    "df['Target'] = df.Target.astype(int)\n",
    "df.head()"
   ],
   "metadata": {
    "collapsed": false
   }
  },
  {
   "cell_type": "code",
   "execution_count": 25,
   "outputs": [],
   "source": [
    "df.to_csv(r'\\\\geo-file\\geomatic\\Temp\\mao\\Thesis\\Data\\df_high_low_wealth.csv', index=False)\n"
   ],
   "metadata": {
    "collapsed": false
   }
  }
 ],
 "metadata": {
  "kernelspec": {
   "display_name": "Python 3",
   "language": "python",
   "name": "python3"
  },
  "language_info": {
   "codemirror_mode": {
    "name": "ipython",
    "version": 2
   },
   "file_extension": ".py",
   "mimetype": "text/x-python",
   "name": "python",
   "nbconvert_exporter": "python",
   "pygments_lexer": "ipython2",
   "version": "2.7.6"
  }
 },
 "nbformat": 4,
 "nbformat_minor": 0
}

{
 "cells": [
  {
   "cell_type": "code",
   "execution_count": null,
   "metadata": {
    "id": "QJeiYrZawUS9"
   },
   "outputs": [],
   "source": [
    "import pandas as pd\n",
    "import numpy as np\n",
    "import pydot as pydot\n",
    "import seaborn as sns\n",
    "import matplotlib.pyplot as plt\n",
    "from matplotlib import rcParams\n",
    "import plotly.express as px\n",
    "plt.style.use(\"ggplot\")\n",
    "rcParams['figure.figsize'] = (12,6)\n",
    "from sklearn.model_selection import train_test_split\n",
    "from sklearn.ensemble import RandomForestClassifier\n",
    "from sklearn.metrics import accuracy_score, confusion_matrix, precision_score, recall_score, ConfusionMatrixDisplay\n",
    "from sklearn.model_selection import RandomizedSearchCV, train_test_split\n",
    "from scipy.stats import randint\n",
    "from sklearn import metrics\n",
    "from sklearn import tree\n",
    "import xgboost as xgb\n",
    "from sklearn.metrics import roc_auc_score\n",
    "from sklearn.metrics import brier_score_loss\n",
    "from sklearn.metrics import f1_score\n",
    "from sklearn.metrics import log_loss\n",
    "from sklearn.ensemble import RandomForestClassifier\n",
    "from sklearn import tree\n",
    "from keras.models import Sequential\n",
    "from keras.layers import Dense, Activation, Dropout\n",
    "from tensorflow import keras\n",
    "from sklearn.metrics import classification_report\n",
    "from imblearn.under_sampling import RandomUnderSampler\n",
    "from sklearn.metrics import classification_report\n",
    "from imblearn.over_sampling import RandomOverSampler\n",
    "from sklearn.model_selection import StratifiedKFold, GridSearchCV\n",
    "from imblearn import over_sampling\n",
    "from imblearn.ensemble import BalancedRandomForestClassifier\n",
    "from sklearn import preprocessing\n",
    "import tensorflow as tf\n",
    "from tensorflow.keras import initializers\n",
    "#from hyperas.distributions import choice, uniform"
   ]
  },
  {
   "cell_type": "code",
   "execution_count": null,
   "metadata": {
    "colab": {
     "base_uri": "https://localhost:8080/"
    },
    "executionInfo": {
     "elapsed": 4933,
     "status": "ok",
     "timestamp": 1685691287073,
     "user": {
      "displayName": "Imacakeoholic",
      "userId": "17290791200507014252"
     },
     "user_tz": -120
    },
    "id": "XJPfnq469s8H",
    "outputId": "30275c12-59fe-493d-d59b-9782f673412f"
   },
   "outputs": [
    {
     "output_type": "stream",
     "name": "stdout",
     "text": [
      "\u001B[?25l     \u001B[90m━━━━━━━━━━━━━━━━━━━━━━━━━━━━━━━━━━━━━━━━\u001B[0m \u001B[32m0.0/176.1 kB\u001B[0m \u001B[31m?\u001B[0m eta \u001B[36m-:--:--\u001B[0m\r\u001B[2K     \u001B[90m━━━━━━━━━━━━━━━━━━━━━━━━━━━━━━━━━━━━━━\u001B[0m \u001B[32m176.1/176.1 kB\u001B[0m \u001B[31m16.9 MB/s\u001B[0m eta \u001B[36m0:00:00\u001B[0m\n",
      "\u001B[?25h"
     ]
    }
   ],
   "source": [
    "!pip install keras-tuner -q"
   ]
  },
  {
   "cell_type": "code",
   "execution_count": null,
   "metadata": {
    "id": "bRJ5bwpH-Cqs"
   },
   "outputs": [],
   "source": [
    "import keras_tuner as kt"
   ]
  },
  {
   "cell_type": "code",
   "execution_count": null,
   "metadata": {
    "colab": {
     "base_uri": "https://localhost:8080/"
    },
    "executionInfo": {
     "elapsed": 18823,
     "status": "ok",
     "timestamp": 1685949074838,
     "user": {
      "displayName": "Imacakeoholic",
      "userId": "17290791200507014252"
     },
     "user_tz": -120
    },
    "id": "lrKIW5q_znnL",
    "outputId": "2be2b308-a64e-471f-87be-ff73373fab76"
   },
   "outputs": [
    {
     "output_type": "stream",
     "name": "stdout",
     "text": [
      "Mounted at /content/drive\n"
     ]
    }
   ],
   "source": [
    "from google.colab import drive\n",
    "drive.mount('/content/drive')\n",
    "\n",
    "root_path = '/content/drive/My Drive/'"
   ]
  },
  {
   "cell_type": "code",
   "execution_count": null,
   "metadata": {
    "id": "kUx0JPQu0pjZ"
   },
   "outputs": [],
   "source": [
    "X_train = pd.read_csv(root_path+'X_train_lvl1.csv')\n",
    "y_train = pd.read_csv(root_path+'y_train_lvl1.csv')\n",
    "X_test = pd.read_csv(root_path+'X_test_lvl1.csv')\n",
    "y_test = pd.read_csv(root_path+'y_test_lvl1.csv')\n",
    "print(X_train.shape, y_train.shape, X_test.shape, y_test.shape)"
   ]
  },
  {
   "cell_type": "code",
   "execution_count": null,
   "metadata": {
    "id": "iBDn4UkLavjr"
   },
   "outputs": [],
   "source": [
    "y_train = np.array(y_train)\n",
    "y_test = np.array(y_test)\n",
    "\n",
    "y_train = ~y_train+2\n",
    "y_test = ~y_test+2\n",
    "\n",
    "X_train = np.array(X_train)\n",
    "X_test = np.array(X_test)\n",
    "\n",
    "scaler = preprocessing.MinMaxScaler((0, 1)) # normalize data\n",
    "X_scaled = scaler.fit_transform(X_train)\n",
    "X_test_scaled = scaler.transform(X_test)\n",
    "\n",
    "X_scaled = np.clip(X_scaled, -5, 5)\n",
    "X_test_scaled = np.clip(X_test_scaled, -5, 5)\n",
    "\n",
    "ros = RandomOverSampler(random_state=42)\n",
    "X_resampled, y_resampled = ros.fit_resample(X_scaled, y_train)\n",
    "\n",
    "print('Training labels shape:', y_resampled.shape)\n",
    "\n",
    "print('Training features shape:', X_resampled.shape)"
   ]
  },
  {
   "cell_type": "markdown",
   "metadata": {
    "id": "-rwV5iCqwl0P"
   },
   "source": [
    "Hypertune NN"
   ]
  },
  {
   "cell_type": "code",
   "execution_count": null,
   "metadata": {
    "id": "31zl4NiFv3-1"
   },
   "outputs": [],
   "source": [
    "def model_builder(hp):\n",
    "  model = keras.Sequential()\n",
    "  hp_units_1 = hp.Int('units1', min_value=16, max_value=512, step=48) # parameters for first layer\n",
    "  hp_units_2 = hp.Int('units2', min_value=16, max_value=256, step=48) # parameters for second layer\n",
    "  # Tune the number of units in the first Dense layer\n",
    "  model.add(keras.layers.Dense(units=hp_units_1, input_shape = (X_train.shape[-1],), activation='relu', name='dense_1'))\n",
    "  # Add next layers\n",
    "  model.add(keras.layers.Dropout(0.2))\n",
    "  # Tune the number of units in the second Dense layer\n",
    "  model.add(keras.layers.Dense(units=hp_units_2, activation='relu', name='dense_2'))\n",
    "  model.add(keras.layers.Dropout(0.2))\n",
    "  model.add(keras.layers.Dense(1, activation='sigmoid'))\n",
    "\n",
    "  # Tune learning rate for the optimizer\n",
    "  # Choose optimal value from 0.001, 0.0001, or 0.00001\n",
    "  hp_learning_rate = hp.Choice('learning_rate', values=[1e-3, 1e-4, 1e-5])\n",
    "  model.compile(optimizer=keras.optimizers.Adam(learning_rate=hp_learning_rate), loss=keras.losses.BinaryCrossentropy(),\n",
    "                  metrics = [keras.metrics.AUC(name='auc'), keras.metrics.TruePositives(name='tp'),\n",
    "      keras.metrics.FalsePositives(name='fp'),\n",
    "      keras.metrics.TrueNegatives(name='tn'),\n",
    "      keras.metrics.FalseNegatives(name='fn')])\n",
    "\n",
    "\n",
    "  return model"
   ]
  },
  {
   "cell_type": "code",
   "execution_count": null,
   "metadata": {
    "id": "wINdBmUbv6vT"
   },
   "outputs": [],
   "source": [
    "# Define tuner\n",
    "tuner = kt.Hyperband(\n",
    "    hypermodel=model_builder,\n",
    "    objective=kt.Objective('val_loss', direction=\"min\"),\n",
    "    max_epochs=10,\n",
    "    factor=3,\n",
    "    directory='my_dir',\n",
    "    project_name='my_project'\n",
    ")\n"
   ]
  },
  {
   "cell_type": "code",
   "execution_count": null,
   "metadata": {
    "id": "TxtxBvwCv87_"
   },
   "outputs": [],
   "source": [
    "# Define early stopping\n",
    "stop_early = tf.keras.callbacks.EarlyStopping(monitor='val_loss', patience=5)\n",
    "# Perform hypertuning\n",
    "tuner.search(X_resampled, y_resampled, epochs=10, validation_data = (X_test_scaled, np.ravel(y_test)), callbacks=[stop_early])\n",
    "best_hp=tuner.get_best_hyperparameters()[0]"
   ]
  }
 ],
 "metadata": {
  "accelerator": "GPU",
  "colab": {
   "provenance": [
    {
     "file_id": "1_pzauk94NQRXYH7MqjZTgcfaV09pJ4tN",
     "timestamp": 1687421565655
    },
    {
     "file_id": "1Wxd4xqkH8EGenjcGQbFB1ghnUEBIppqz",
     "timestamp": 1685446399700
    },
    {
     "file_id": "13CBpl2sOOHRfFt22cWPlmReazC2VoFzD",
     "timestamp": 1683634089216
    }
   ],
   "gpuType": "T4",
   "authorship_tag": "ABX9TyPT+OjKaBOlOfPXY+rgPTdK"
  },
  "kernelspec": {
   "display_name": "Python 3",
   "name": "python3"
  },
  "language_info": {
   "name": "python"
  }
 },
 "nbformat": 4,
 "nbformat_minor": 0
}
